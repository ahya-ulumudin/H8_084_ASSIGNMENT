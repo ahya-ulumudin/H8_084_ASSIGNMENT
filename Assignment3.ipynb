{
 "cells": [
  {
   "cell_type": "markdown",
   "id": "e3738838",
   "metadata": {},
   "source": [
    "### Introduction\n",
    "#### Penjelasan Data\n",
    "Data tersebut terkait dengan kampanye pemasaran langsung dari lembaga perbankan Portugis. Kampanye pemasaran didasarkan pada panggilan telepon. Seringkali, lebih dari satu kontak ke klien yang sama diperlukan, untuk mengakses apakah produk (deposito berjangka bank) akan \"yes\" (ya) atau \"no\" (tidak) berlangganan.\n",
    "\n",
    "#### Penjelasan Atribut\n",
    "Daftar Atribut Kategorikal:\n",
    "1. job\n",
    "  (\"admin.\",\"blue-collar\",\"entrepreneur\",\"housemaid\",\"management\",\"retired\",\"self-employed\",\"services\",\"student\",\"technician\",\"unemployed\",\"unknown\")\n",
    "2. marital\n",
    "  (\"divorced\",\"married\",\"single\",\"unknown\")\n",
    "  note: \"divorced\" means divorced or widowed\n",
    "3. education\n",
    "    (\"basic.4y\",\"basic.6y\",\"basic.9y\",\"high.school\",\"illiterate\",\"professional.course\",\"university.degree\",\"unknown\")\n",
    "4. default\n",
    "    (\"no\",\"yes\",\"unknown\")\n",
    "5. housing\n",
    "    (\"no\",\"yes\",\"unknown\")\n",
    "6. loan\n",
    "    (\"no\",\"yes\",\"unknown\")\n",
    "7. contact\n",
    "    (\"cellular\",\"telephone\")\n",
    "8. month\n",
    "    (\"jan\", \"feb\", \"mar\", ..., \"nov\", \"dec\")\n",
    "9. day_of_week\n",
    "    (\"mon\",\"tue\",\"wed\",\"thu\",\"fri\")\n",
    "10. poutcome\n",
    "    (\"failure\",\"nonexistent\",\"success\")\n",
    "    y (target)\n",
    "    (\"yes\",\"no\")\n",
    "\n",
    "Daftar Atribut Numerikal:\n",
    "1. Age\n",
    "2. duration (in seconds)\n",
    "3. campaign\n",
    "4. pdays\n",
    "    (999 means client was not previously contacted)\n",
    "5. previous\n",
    "6. emp.var.rate\n",
    "7. cons.price.idx\n",
    "8. cons.conf.idx\n",
    "9. euribor3m\n",
    "10. nr.eployed "
   ]
  },
  {
   "cell_type": "markdown",
   "id": "200986d3",
   "metadata": {},
   "source": [
    "### Install and Import Required Libraries"
   ]
  },
  {
   "cell_type": "code",
   "execution_count": 1,
   "id": "87241a22",
   "metadata": {},
   "outputs": [],
   "source": [
    "# Data processing\n",
    "import pandas as pd\n",
    "import numpy as np\n",
    "\n",
    "# visualization tools\n",
    "import matplotlib.pyplot as plt\n",
    "import seaborn as sns\n",
    "\n",
    "# Machine learning process\n",
    "from sklearn.model_selection import train_test_split, cross_val_score, GridSearchCV, KFold\n",
    "from sklearn.preprocessing import LabelEncoder, MinMaxScaler, StandardScaler\n",
    "from sklearn.impute import SimpleImputer\n",
    "from sklearn.pipeline import Pipeline\n",
    "from sklearn.naive_bayes import GaussianNB\n",
    "from sklearn.tree import DecisionTreeClassifier\n",
    "from sklearn.neighbors import KNeighborsClassifier\n",
    "from sklearn.ensemble import RandomForestClassifier\n",
    "from sklearn.svm import SVC\n",
    "from sklearn.linear_model import LogisticRegression\n",
    "from sklearn import metrics\n",
    "\n",
    "# features analysis libraries\n",
    "from sklearn.feature_selection import SelectKBest\n",
    "from sklearn.feature_selection import f_classif\n",
    "from sklearn.feature_selection import chi2,mutual_info_classif\n",
    "from sklearn.decomposition import PCA\n",
    "\n",
    "%matplotlib inline"
   ]
  },
  {
   "cell_type": "markdown",
   "id": "46846241",
   "metadata": {},
   "source": [
    "### Data Loading\n",
    "#### Bank Additional"
   ]
  },
  {
   "cell_type": "code",
   "execution_count": 2,
   "id": "90a8de17",
   "metadata": {},
   "outputs": [],
   "source": [
    "bank_df = pd.read_excel('bank-additional-full.xlsx')\n",
    "test_bank_df = pd.read_excel('bank-additional.xlsx')"
   ]
  },
  {
   "cell_type": "code",
   "execution_count": 3,
   "id": "8a477ab8",
   "metadata": {},
   "outputs": [
    {
     "data": {
      "text/html": [
       "<div>\n",
       "<style scoped>\n",
       "    .dataframe tbody tr th:only-of-type {\n",
       "        vertical-align: middle;\n",
       "    }\n",
       "\n",
       "    .dataframe tbody tr th {\n",
       "        vertical-align: top;\n",
       "    }\n",
       "\n",
       "    .dataframe thead th {\n",
       "        text-align: right;\n",
       "    }\n",
       "</style>\n",
       "<table border=\"1\" class=\"dataframe\">\n",
       "  <thead>\n",
       "    <tr style=\"text-align: right;\">\n",
       "      <th></th>\n",
       "      <th>age</th>\n",
       "      <th>job</th>\n",
       "      <th>marital</th>\n",
       "      <th>education</th>\n",
       "      <th>default</th>\n",
       "      <th>housing</th>\n",
       "      <th>loan</th>\n",
       "      <th>contact</th>\n",
       "      <th>month</th>\n",
       "      <th>day_of_week</th>\n",
       "      <th>...</th>\n",
       "      <th>campaign</th>\n",
       "      <th>pdays</th>\n",
       "      <th>previous</th>\n",
       "      <th>poutcome</th>\n",
       "      <th>emp.var.rate</th>\n",
       "      <th>cons.price.idx</th>\n",
       "      <th>cons.conf.idx</th>\n",
       "      <th>euribor3m</th>\n",
       "      <th>nr.employed</th>\n",
       "      <th>y</th>\n",
       "    </tr>\n",
       "  </thead>\n",
       "  <tbody>\n",
       "    <tr>\n",
       "      <th>0</th>\n",
       "      <td>56</td>\n",
       "      <td>housemaid</td>\n",
       "      <td>married</td>\n",
       "      <td>basic.4y</td>\n",
       "      <td>no</td>\n",
       "      <td>no</td>\n",
       "      <td>no</td>\n",
       "      <td>telephone</td>\n",
       "      <td>may</td>\n",
       "      <td>mon</td>\n",
       "      <td>...</td>\n",
       "      <td>1</td>\n",
       "      <td>999</td>\n",
       "      <td>0</td>\n",
       "      <td>nonexistent</td>\n",
       "      <td>1.1</td>\n",
       "      <td>93994.0</td>\n",
       "      <td>-36.4</td>\n",
       "      <td>4857.0</td>\n",
       "      <td>5191.0</td>\n",
       "      <td>no</td>\n",
       "    </tr>\n",
       "    <tr>\n",
       "      <th>1</th>\n",
       "      <td>57</td>\n",
       "      <td>services</td>\n",
       "      <td>married</td>\n",
       "      <td>high.school</td>\n",
       "      <td>unknown</td>\n",
       "      <td>no</td>\n",
       "      <td>no</td>\n",
       "      <td>telephone</td>\n",
       "      <td>may</td>\n",
       "      <td>mon</td>\n",
       "      <td>...</td>\n",
       "      <td>1</td>\n",
       "      <td>999</td>\n",
       "      <td>0</td>\n",
       "      <td>nonexistent</td>\n",
       "      <td>1.1</td>\n",
       "      <td>93994.0</td>\n",
       "      <td>-36.4</td>\n",
       "      <td>4857.0</td>\n",
       "      <td>5191.0</td>\n",
       "      <td>no</td>\n",
       "    </tr>\n",
       "    <tr>\n",
       "      <th>2</th>\n",
       "      <td>37</td>\n",
       "      <td>services</td>\n",
       "      <td>married</td>\n",
       "      <td>high.school</td>\n",
       "      <td>no</td>\n",
       "      <td>yes</td>\n",
       "      <td>no</td>\n",
       "      <td>telephone</td>\n",
       "      <td>may</td>\n",
       "      <td>mon</td>\n",
       "      <td>...</td>\n",
       "      <td>1</td>\n",
       "      <td>999</td>\n",
       "      <td>0</td>\n",
       "      <td>nonexistent</td>\n",
       "      <td>1.1</td>\n",
       "      <td>93994.0</td>\n",
       "      <td>-36.4</td>\n",
       "      <td>4857.0</td>\n",
       "      <td>5191.0</td>\n",
       "      <td>no</td>\n",
       "    </tr>\n",
       "    <tr>\n",
       "      <th>3</th>\n",
       "      <td>40</td>\n",
       "      <td>admin.</td>\n",
       "      <td>married</td>\n",
       "      <td>basic.6y</td>\n",
       "      <td>no</td>\n",
       "      <td>no</td>\n",
       "      <td>no</td>\n",
       "      <td>telephone</td>\n",
       "      <td>may</td>\n",
       "      <td>mon</td>\n",
       "      <td>...</td>\n",
       "      <td>1</td>\n",
       "      <td>999</td>\n",
       "      <td>0</td>\n",
       "      <td>nonexistent</td>\n",
       "      <td>1.1</td>\n",
       "      <td>93994.0</td>\n",
       "      <td>-36.4</td>\n",
       "      <td>4857.0</td>\n",
       "      <td>5191.0</td>\n",
       "      <td>no</td>\n",
       "    </tr>\n",
       "    <tr>\n",
       "      <th>4</th>\n",
       "      <td>56</td>\n",
       "      <td>services</td>\n",
       "      <td>married</td>\n",
       "      <td>high.school</td>\n",
       "      <td>no</td>\n",
       "      <td>no</td>\n",
       "      <td>yes</td>\n",
       "      <td>telephone</td>\n",
       "      <td>may</td>\n",
       "      <td>mon</td>\n",
       "      <td>...</td>\n",
       "      <td>1</td>\n",
       "      <td>999</td>\n",
       "      <td>0</td>\n",
       "      <td>nonexistent</td>\n",
       "      <td>1.1</td>\n",
       "      <td>93994.0</td>\n",
       "      <td>-36.4</td>\n",
       "      <td>4857.0</td>\n",
       "      <td>5191.0</td>\n",
       "      <td>no</td>\n",
       "    </tr>\n",
       "  </tbody>\n",
       "</table>\n",
       "<p>5 rows × 21 columns</p>\n",
       "</div>"
      ],
      "text/plain": [
       "   age        job  marital    education  default housing loan    contact  \\\n",
       "0   56  housemaid  married     basic.4y       no      no   no  telephone   \n",
       "1   57   services  married  high.school  unknown      no   no  telephone   \n",
       "2   37   services  married  high.school       no     yes   no  telephone   \n",
       "3   40     admin.  married     basic.6y       no      no   no  telephone   \n",
       "4   56   services  married  high.school       no      no  yes  telephone   \n",
       "\n",
       "  month day_of_week  ...  campaign  pdays  previous     poutcome emp.var.rate  \\\n",
       "0   may         mon  ...         1    999         0  nonexistent          1.1   \n",
       "1   may         mon  ...         1    999         0  nonexistent          1.1   \n",
       "2   may         mon  ...         1    999         0  nonexistent          1.1   \n",
       "3   may         mon  ...         1    999         0  nonexistent          1.1   \n",
       "4   may         mon  ...         1    999         0  nonexistent          1.1   \n",
       "\n",
       "   cons.price.idx  cons.conf.idx  euribor3m  nr.employed   y  \n",
       "0         93994.0          -36.4     4857.0       5191.0  no  \n",
       "1         93994.0          -36.4     4857.0       5191.0  no  \n",
       "2         93994.0          -36.4     4857.0       5191.0  no  \n",
       "3         93994.0          -36.4     4857.0       5191.0  no  \n",
       "4         93994.0          -36.4     4857.0       5191.0  no  \n",
       "\n",
       "[5 rows x 21 columns]"
      ]
     },
     "execution_count": 3,
     "metadata": {},
     "output_type": "execute_result"
    }
   ],
   "source": [
    "# Menampilkan 5 data teratas\n",
    "bank_df.head()"
   ]
  },
  {
   "cell_type": "markdown",
   "id": "33899ea6",
   "metadata": {},
   "source": [
    "### Bank Additional Descriptions\n",
    "#### Mengetahui dimensi dataset"
   ]
  },
  {
   "cell_type": "code",
   "execution_count": 4,
   "id": "848d1c32",
   "metadata": {},
   "outputs": [
    {
     "name": "stdout",
     "output_type": "stream",
     "text": [
      "Dimensi data =  (41188, 21)\n"
     ]
    }
   ],
   "source": [
    "print(\"Dimensi data = \", bank_df.shape)"
   ]
  },
  {
   "cell_type": "markdown",
   "id": "188773fc",
   "metadata": {},
   "source": [
    "#### Mengetahui daftar atribut/fitur dari dataset"
   ]
  },
  {
   "cell_type": "code",
   "execution_count": 5,
   "id": "07db7cb5",
   "metadata": {},
   "outputs": [
    {
     "name": "stdout",
     "output_type": "stream",
     "text": [
      "<class 'pandas.core.frame.DataFrame'>\n",
      "RangeIndex: 41188 entries, 0 to 41187\n",
      "Data columns (total 21 columns):\n",
      " #   Column          Non-Null Count  Dtype  \n",
      "---  ------          --------------  -----  \n",
      " 0   age             41188 non-null  int64  \n",
      " 1   job             41188 non-null  object \n",
      " 2   marital         41188 non-null  object \n",
      " 3   education       41188 non-null  object \n",
      " 4   default         41188 non-null  object \n",
      " 5   housing         41188 non-null  object \n",
      " 6   loan            41188 non-null  object \n",
      " 7   contact         41188 non-null  object \n",
      " 8   month           41188 non-null  object \n",
      " 9   day_of_week     41188 non-null  object \n",
      " 10  duration        41188 non-null  int64  \n",
      " 11  campaign        41188 non-null  int64  \n",
      " 12  pdays           41188 non-null  int64  \n",
      " 13  previous        41188 non-null  int64  \n",
      " 14  poutcome        41188 non-null  object \n",
      " 15  emp.var.rate    41188 non-null  float64\n",
      " 16  cons.price.idx  41188 non-null  float64\n",
      " 17  cons.conf.idx   41188 non-null  float64\n",
      " 18  euribor3m       41188 non-null  float64\n",
      " 19  nr.employed     41188 non-null  float64\n",
      " 20  y               41188 non-null  object \n",
      "dtypes: float64(5), int64(5), object(11)\n",
      "memory usage: 6.6+ MB\n"
     ]
    }
   ],
   "source": [
    "bank_df.info()"
   ]
  },
  {
   "cell_type": "markdown",
   "id": "87a306a9",
   "metadata": {},
   "source": [
    "##### ANALISIS\n",
    "Terlihat bahwa tidak ada missing values pada data. Hal ini cukup aneh. Missing values akan diperiksa lebih lanjut.\n",
    "Daftar Atribut Kategorikal:\n",
    "1. job\n",
    "2. marital\n",
    "3. education\n",
    "4. default\n",
    "5. housing\n",
    "6. loan\n",
    "7. contact\n",
    "8. month\n",
    "9. day_of_week\n",
    "10. poutcome\n",
    "11. y (target)\n",
    "Daftar Atribut Numerikal:\n",
    "1. Age\n",
    "2. duration (in seconds)\n",
    "3. campaign\n",
    "4. pdays\n",
    "5. previous\n",
    "6. emp.var.rate\n",
    "7. cons.price.idx\n",
    "8. cons.conf.idx\n",
    "9. euribor3m\n",
    "10. nr.eployed"
   ]
  },
  {
   "cell_type": "markdown",
   "id": "cb9c73cc",
   "metadata": {},
   "source": [
    "#### Mengelompokkan atribut berdasarkan tipe datanya"
   ]
  },
  {
   "cell_type": "code",
   "execution_count": 6,
   "id": "4b6f4d40",
   "metadata": {},
   "outputs": [],
   "source": [
    "numerical_columns = list(bank_df.select_dtypes(include=['int64']).columns.values) + list(bank_df.select_dtypes(include=['float64']).columns.values)\n",
    "categorical_columns = list(bank_df.select_dtypes(include=['object']))"
   ]
  },
  {
   "cell_type": "code",
   "execution_count": 7,
   "id": "c23d6e96",
   "metadata": {},
   "outputs": [
    {
     "data": {
      "text/plain": [
       "['age',\n",
       " 'duration',\n",
       " 'campaign',\n",
       " 'pdays',\n",
       " 'previous',\n",
       " 'emp.var.rate',\n",
       " 'cons.price.idx',\n",
       " 'cons.conf.idx',\n",
       " 'euribor3m',\n",
       " 'nr.employed']"
      ]
     },
     "execution_count": 7,
     "metadata": {},
     "output_type": "execute_result"
    }
   ],
   "source": [
    "# cetak variabel yang numerik\n",
    "numerical_columns"
   ]
  },
  {
   "cell_type": "code",
   "execution_count": 8,
   "id": "c7849f8f",
   "metadata": {},
   "outputs": [
    {
     "data": {
      "text/plain": [
       "['job',\n",
       " 'marital',\n",
       " 'education',\n",
       " 'default',\n",
       " 'housing',\n",
       " 'loan',\n",
       " 'contact',\n",
       " 'month',\n",
       " 'day_of_week',\n",
       " 'poutcome',\n",
       " 'y']"
      ]
     },
     "execution_count": 8,
     "metadata": {},
     "output_type": "execute_result"
    }
   ],
   "source": [
    "# cetak variabel yang kategorikal\n",
    "categorical_columns"
   ]
  },
  {
   "cell_type": "markdown",
   "id": "110ce31e",
   "metadata": {},
   "source": [
    "Terlihat bahwa tipe data pada dataset sudah sesuai dengan apa yang seharusnya"
   ]
  },
  {
   "cell_type": "markdown",
   "id": "6cd5239d",
   "metadata": {},
   "source": [
    "#### Deskriptif Statistik untuk atribut numerikal"
   ]
  },
  {
   "cell_type": "code",
   "execution_count": 9,
   "id": "ea858a5f",
   "metadata": {},
   "outputs": [
    {
     "data": {
      "text/html": [
       "<div>\n",
       "<style scoped>\n",
       "    .dataframe tbody tr th:only-of-type {\n",
       "        vertical-align: middle;\n",
       "    }\n",
       "\n",
       "    .dataframe tbody tr th {\n",
       "        vertical-align: top;\n",
       "    }\n",
       "\n",
       "    .dataframe thead th {\n",
       "        text-align: right;\n",
       "    }\n",
       "</style>\n",
       "<table border=\"1\" class=\"dataframe\">\n",
       "  <thead>\n",
       "    <tr style=\"text-align: right;\">\n",
       "      <th></th>\n",
       "      <th>age</th>\n",
       "      <th>duration</th>\n",
       "      <th>campaign</th>\n",
       "      <th>pdays</th>\n",
       "      <th>previous</th>\n",
       "      <th>emp.var.rate</th>\n",
       "      <th>cons.price.idx</th>\n",
       "      <th>cons.conf.idx</th>\n",
       "      <th>euribor3m</th>\n",
       "      <th>nr.employed</th>\n",
       "    </tr>\n",
       "  </thead>\n",
       "  <tbody>\n",
       "    <tr>\n",
       "      <th>count</th>\n",
       "      <td>41188.00000</td>\n",
       "      <td>41188.000000</td>\n",
       "      <td>41188.000000</td>\n",
       "      <td>41188.000000</td>\n",
       "      <td>41188.000000</td>\n",
       "      <td>41188.000000</td>\n",
       "      <td>41188.000000</td>\n",
       "      <td>41188.000000</td>\n",
       "      <td>41188.000000</td>\n",
       "      <td>41188.000000</td>\n",
       "    </tr>\n",
       "    <tr>\n",
       "      <th>mean</th>\n",
       "      <td>40.02406</td>\n",
       "      <td>258.285010</td>\n",
       "      <td>2.567593</td>\n",
       "      <td>962.475454</td>\n",
       "      <td>0.172963</td>\n",
       "      <td>0.081886</td>\n",
       "      <td>85401.579955</td>\n",
       "      <td>-40.502600</td>\n",
       "      <td>3180.107207</td>\n",
       "      <td>5167.035911</td>\n",
       "    </tr>\n",
       "    <tr>\n",
       "      <th>std</th>\n",
       "      <td>10.42125</td>\n",
       "      <td>259.279249</td>\n",
       "      <td>2.770014</td>\n",
       "      <td>186.910907</td>\n",
       "      <td>0.494901</td>\n",
       "      <td>1.570960</td>\n",
       "      <td>26471.506796</td>\n",
       "      <td>4.628198</td>\n",
       "      <td>2086.690436</td>\n",
       "      <td>72.251528</td>\n",
       "    </tr>\n",
       "    <tr>\n",
       "      <th>min</th>\n",
       "      <td>17.00000</td>\n",
       "      <td>0.000000</td>\n",
       "      <td>1.000000</td>\n",
       "      <td>0.000000</td>\n",
       "      <td>0.000000</td>\n",
       "      <td>-3.400000</td>\n",
       "      <td>93.200000</td>\n",
       "      <td>-50.800000</td>\n",
       "      <td>0.634000</td>\n",
       "      <td>4963.600000</td>\n",
       "    </tr>\n",
       "    <tr>\n",
       "      <th>25%</th>\n",
       "      <td>32.00000</td>\n",
       "      <td>102.000000</td>\n",
       "      <td>1.000000</td>\n",
       "      <td>999.000000</td>\n",
       "      <td>0.000000</td>\n",
       "      <td>-1.800000</td>\n",
       "      <td>92893.000000</td>\n",
       "      <td>-42.700000</td>\n",
       "      <td>1281.000000</td>\n",
       "      <td>5099.100000</td>\n",
       "    </tr>\n",
       "    <tr>\n",
       "      <th>50%</th>\n",
       "      <td>38.00000</td>\n",
       "      <td>180.000000</td>\n",
       "      <td>2.000000</td>\n",
       "      <td>999.000000</td>\n",
       "      <td>0.000000</td>\n",
       "      <td>1.100000</td>\n",
       "      <td>93749.000000</td>\n",
       "      <td>-41.800000</td>\n",
       "      <td>4856.000000</td>\n",
       "      <td>5191.000000</td>\n",
       "    </tr>\n",
       "    <tr>\n",
       "      <th>75%</th>\n",
       "      <td>47.00000</td>\n",
       "      <td>319.000000</td>\n",
       "      <td>3.000000</td>\n",
       "      <td>999.000000</td>\n",
       "      <td>0.000000</td>\n",
       "      <td>1.400000</td>\n",
       "      <td>93994.000000</td>\n",
       "      <td>-36.400000</td>\n",
       "      <td>4961.000000</td>\n",
       "      <td>5228.100000</td>\n",
       "    </tr>\n",
       "    <tr>\n",
       "      <th>max</th>\n",
       "      <td>98.00000</td>\n",
       "      <td>4918.000000</td>\n",
       "      <td>56.000000</td>\n",
       "      <td>999.000000</td>\n",
       "      <td>7.000000</td>\n",
       "      <td>1.400000</td>\n",
       "      <td>94767.000000</td>\n",
       "      <td>-26.900000</td>\n",
       "      <td>5045.000000</td>\n",
       "      <td>5228.100000</td>\n",
       "    </tr>\n",
       "  </tbody>\n",
       "</table>\n",
       "</div>"
      ],
      "text/plain": [
       "               age      duration      campaign         pdays      previous  \\\n",
       "count  41188.00000  41188.000000  41188.000000  41188.000000  41188.000000   \n",
       "mean      40.02406    258.285010      2.567593    962.475454      0.172963   \n",
       "std       10.42125    259.279249      2.770014    186.910907      0.494901   \n",
       "min       17.00000      0.000000      1.000000      0.000000      0.000000   \n",
       "25%       32.00000    102.000000      1.000000    999.000000      0.000000   \n",
       "50%       38.00000    180.000000      2.000000    999.000000      0.000000   \n",
       "75%       47.00000    319.000000      3.000000    999.000000      0.000000   \n",
       "max       98.00000   4918.000000     56.000000    999.000000      7.000000   \n",
       "\n",
       "       emp.var.rate  cons.price.idx  cons.conf.idx     euribor3m   nr.employed  \n",
       "count  41188.000000    41188.000000   41188.000000  41188.000000  41188.000000  \n",
       "mean       0.081886    85401.579955     -40.502600   3180.107207   5167.035911  \n",
       "std        1.570960    26471.506796       4.628198   2086.690436     72.251528  \n",
       "min       -3.400000       93.200000     -50.800000      0.634000   4963.600000  \n",
       "25%       -1.800000    92893.000000     -42.700000   1281.000000   5099.100000  \n",
       "50%        1.100000    93749.000000     -41.800000   4856.000000   5191.000000  \n",
       "75%        1.400000    93994.000000     -36.400000   4961.000000   5228.100000  \n",
       "max        1.400000    94767.000000     -26.900000   5045.000000   5228.100000  "
      ]
     },
     "execution_count": 9,
     "metadata": {},
     "output_type": "execute_result"
    }
   ],
   "source": [
    "# deskriptif statistik untuk data latih\n",
    "bank_df[numerical_columns].describe()"
   ]
  },
  {
   "cell_type": "markdown",
   "id": "5831085c",
   "metadata": {},
   "source": [
    "#### Mengetahui jumlah data untuk masing-masing kelas"
   ]
  },
  {
   "cell_type": "code",
   "execution_count": 10,
   "id": "a3b1b8ba",
   "metadata": {},
   "outputs": [
    {
     "data": {
      "text/html": [
       "<div>\n",
       "<style scoped>\n",
       "    .dataframe tbody tr th:only-of-type {\n",
       "        vertical-align: middle;\n",
       "    }\n",
       "\n",
       "    .dataframe tbody tr th {\n",
       "        vertical-align: top;\n",
       "    }\n",
       "\n",
       "    .dataframe thead th {\n",
       "        text-align: right;\n",
       "    }\n",
       "</style>\n",
       "<table border=\"1\" class=\"dataframe\">\n",
       "  <thead>\n",
       "    <tr style=\"text-align: right;\">\n",
       "      <th></th>\n",
       "      <th>age</th>\n",
       "      <th>job</th>\n",
       "      <th>marital</th>\n",
       "      <th>education</th>\n",
       "      <th>default</th>\n",
       "      <th>housing</th>\n",
       "      <th>loan</th>\n",
       "      <th>contact</th>\n",
       "      <th>month</th>\n",
       "      <th>day_of_week</th>\n",
       "      <th>duration</th>\n",
       "      <th>campaign</th>\n",
       "      <th>pdays</th>\n",
       "      <th>previous</th>\n",
       "      <th>poutcome</th>\n",
       "      <th>emp.var.rate</th>\n",
       "      <th>cons.price.idx</th>\n",
       "      <th>cons.conf.idx</th>\n",
       "      <th>euribor3m</th>\n",
       "      <th>nr.employed</th>\n",
       "    </tr>\n",
       "    <tr>\n",
       "      <th>y</th>\n",
       "      <th></th>\n",
       "      <th></th>\n",
       "      <th></th>\n",
       "      <th></th>\n",
       "      <th></th>\n",
       "      <th></th>\n",
       "      <th></th>\n",
       "      <th></th>\n",
       "      <th></th>\n",
       "      <th></th>\n",
       "      <th></th>\n",
       "      <th></th>\n",
       "      <th></th>\n",
       "      <th></th>\n",
       "      <th></th>\n",
       "      <th></th>\n",
       "      <th></th>\n",
       "      <th></th>\n",
       "      <th></th>\n",
       "      <th></th>\n",
       "    </tr>\n",
       "  </thead>\n",
       "  <tbody>\n",
       "    <tr>\n",
       "      <th>no</th>\n",
       "      <td>36548</td>\n",
       "      <td>36548</td>\n",
       "      <td>36548</td>\n",
       "      <td>36548</td>\n",
       "      <td>36548</td>\n",
       "      <td>36548</td>\n",
       "      <td>36548</td>\n",
       "      <td>36548</td>\n",
       "      <td>36548</td>\n",
       "      <td>36548</td>\n",
       "      <td>36548</td>\n",
       "      <td>36548</td>\n",
       "      <td>36548</td>\n",
       "      <td>36548</td>\n",
       "      <td>36548</td>\n",
       "      <td>36548</td>\n",
       "      <td>36548</td>\n",
       "      <td>36548</td>\n",
       "      <td>36548</td>\n",
       "      <td>36548</td>\n",
       "    </tr>\n",
       "    <tr>\n",
       "      <th>yes</th>\n",
       "      <td>4640</td>\n",
       "      <td>4640</td>\n",
       "      <td>4640</td>\n",
       "      <td>4640</td>\n",
       "      <td>4640</td>\n",
       "      <td>4640</td>\n",
       "      <td>4640</td>\n",
       "      <td>4640</td>\n",
       "      <td>4640</td>\n",
       "      <td>4640</td>\n",
       "      <td>4640</td>\n",
       "      <td>4640</td>\n",
       "      <td>4640</td>\n",
       "      <td>4640</td>\n",
       "      <td>4640</td>\n",
       "      <td>4640</td>\n",
       "      <td>4640</td>\n",
       "      <td>4640</td>\n",
       "      <td>4640</td>\n",
       "      <td>4640</td>\n",
       "    </tr>\n",
       "  </tbody>\n",
       "</table>\n",
       "</div>"
      ],
      "text/plain": [
       "       age    job  marital  education  default  housing   loan  contact  \\\n",
       "y                                                                         \n",
       "no   36548  36548    36548      36548    36548    36548  36548    36548   \n",
       "yes   4640   4640     4640       4640     4640     4640   4640     4640   \n",
       "\n",
       "     month  day_of_week  duration  campaign  pdays  previous  poutcome  \\\n",
       "y                                                                        \n",
       "no   36548        36548     36548     36548  36548     36548     36548   \n",
       "yes   4640         4640      4640      4640   4640      4640      4640   \n",
       "\n",
       "     emp.var.rate  cons.price.idx  cons.conf.idx  euribor3m  nr.employed  \n",
       "y                                                                         \n",
       "no          36548           36548          36548      36548        36548  \n",
       "yes          4640            4640           4640       4640         4640  "
      ]
     },
     "execution_count": 10,
     "metadata": {},
     "output_type": "execute_result"
    }
   ],
   "source": [
    "bank_df.groupby('y').count()"
   ]
  },
  {
   "cell_type": "markdown",
   "id": "1e61eefb",
   "metadata": {},
   "source": [
    "Data latih memiliki:\n",
    "\n",
    "    36548 label \"no\"\n",
    "    4640 label \"yes\""
   ]
  },
  {
   "cell_type": "markdown",
   "id": "f4d06f83",
   "metadata": {},
   "source": [
    "### Data Cleaning\n",
    "#### Memastikan tidak ada missing values pada Kolom Kategorikal\n",
    "Pada keterangan dataset yang dilampirkan, missing values pada data ditandai dengan label \"unknown\" pada beberapa kolom dengan tipe kategorikal. Oleh karena, kolom kategorikal yang memuat label \"unknown\" akan diganti menjadi nan untuk menandai adanya missing values (unstandard missing values)"
   ]
  },
  {
   "cell_type": "code",
   "execution_count": 11,
   "id": "a3d0d63c",
   "metadata": {},
   "outputs": [
    {
     "data": {
      "text/plain": [
       "default           8597\n",
       "education         1731\n",
       "housing            990\n",
       "loan               990\n",
       "job                330\n",
       "marital             80\n",
       "age                  0\n",
       "poutcome             0\n",
       "nr.employed          0\n",
       "euribor3m            0\n",
       "cons.conf.idx        0\n",
       "cons.price.idx       0\n",
       "emp.var.rate         0\n",
       "duration             0\n",
       "previous             0\n",
       "pdays                0\n",
       "campaign             0\n",
       "day_of_week          0\n",
       "month                0\n",
       "contact              0\n",
       "y                    0\n",
       "dtype: int64"
      ]
     },
     "execution_count": 11,
     "metadata": {},
     "output_type": "execute_result"
    }
   ],
   "source": [
    "# Mengetahui jumlah \"unknown\" di setiap atribut\n",
    "bank_df[\n",
    "    bank_df[categorical_columns]=='unknown'\n",
    "].count().sort_values(ascending=False)"
   ]
  },
  {
   "cell_type": "markdown",
   "id": "3ab70e27",
   "metadata": {},
   "source": [
    "default, education, housing, loan, job, marital menjadi kolom kategorikal yang banyak mengandung missing values"
   ]
  },
  {
   "cell_type": "markdown",
   "id": "4bc67836",
   "metadata": {},
   "source": [
    "#### Mengganti \"unknown\" dengan Numpy nan"
   ]
  },
  {
   "cell_type": "code",
   "execution_count": 12,
   "id": "7fbe096b",
   "metadata": {},
   "outputs": [],
   "source": [
    "# Mengganti \"unknown\" pada data latih\n",
    "bank_df[\n",
    "    bank_df[categorical_columns]==\"unknown\"\n",
    "] = np.nan"
   ]
  },
  {
   "cell_type": "markdown",
   "id": "e07d2ff4",
   "metadata": {},
   "source": [
    "#### Cek apakah \"unknown\" sudah terganti dengan Numpy nan dengan benar"
   ]
  },
  {
   "cell_type": "code",
   "execution_count": 13,
   "id": "b7e6ff60",
   "metadata": {},
   "outputs": [
    {
     "data": {
      "text/plain": [
       "age               0\n",
       "campaign          0\n",
       "nr.employed       0\n",
       "euribor3m         0\n",
       "cons.conf.idx     0\n",
       "cons.price.idx    0\n",
       "emp.var.rate      0\n",
       "poutcome          0\n",
       "previous          0\n",
       "pdays             0\n",
       "duration          0\n",
       "job               0\n",
       "day_of_week       0\n",
       "month             0\n",
       "contact           0\n",
       "loan              0\n",
       "housing           0\n",
       "default           0\n",
       "education         0\n",
       "marital           0\n",
       "y                 0\n",
       "dtype: int64"
      ]
     },
     "execution_count": 13,
     "metadata": {},
     "output_type": "execute_result"
    }
   ],
   "source": [
    "# Mengetahui jumlah \"unknown\" di setiap atribut\n",
    "bank_df[\n",
    "    bank_df[categorical_columns]=='unknown'\n",
    "].count().sort_values(ascending=False)"
   ]
  },
  {
   "cell_type": "markdown",
   "id": "dc02839a",
   "metadata": {},
   "source": [
    "Label \"unknown\" sudah tergantikan dengan Numpy nan semuanya"
   ]
  },
  {
   "cell_type": "markdown",
   "id": "29a0702a",
   "metadata": {},
   "source": [
    "#### Melihat unstandard missing values pada kolom kategorikal"
   ]
  },
  {
   "cell_type": "code",
   "execution_count": 14,
   "id": "1070a2f3",
   "metadata": {},
   "outputs": [
    {
     "data": {
      "text/html": [
       "<div>\n",
       "<style scoped>\n",
       "    .dataframe tbody tr th:only-of-type {\n",
       "        vertical-align: middle;\n",
       "    }\n",
       "\n",
       "    .dataframe tbody tr th {\n",
       "        vertical-align: top;\n",
       "    }\n",
       "\n",
       "    .dataframe thead th {\n",
       "        text-align: right;\n",
       "    }\n",
       "</style>\n",
       "<table border=\"1\" class=\"dataframe\">\n",
       "  <thead>\n",
       "    <tr style=\"text-align: right;\">\n",
       "      <th></th>\n",
       "      <th>job</th>\n",
       "      <th>marital</th>\n",
       "      <th>education</th>\n",
       "      <th>default</th>\n",
       "      <th>housing</th>\n",
       "      <th>loan</th>\n",
       "      <th>contact</th>\n",
       "      <th>month</th>\n",
       "      <th>day_of_week</th>\n",
       "      <th>poutcome</th>\n",
       "      <th>y</th>\n",
       "    </tr>\n",
       "  </thead>\n",
       "  <tbody>\n",
       "    <tr>\n",
       "      <th>0</th>\n",
       "      <td>housemaid</td>\n",
       "      <td>married</td>\n",
       "      <td>basic.4y</td>\n",
       "      <td>no</td>\n",
       "      <td>no</td>\n",
       "      <td>no</td>\n",
       "      <td>telephone</td>\n",
       "      <td>may</td>\n",
       "      <td>mon</td>\n",
       "      <td>nonexistent</td>\n",
       "      <td>no</td>\n",
       "    </tr>\n",
       "    <tr>\n",
       "      <th>1</th>\n",
       "      <td>services</td>\n",
       "      <td>married</td>\n",
       "      <td>high.school</td>\n",
       "      <td>NaN</td>\n",
       "      <td>no</td>\n",
       "      <td>no</td>\n",
       "      <td>telephone</td>\n",
       "      <td>may</td>\n",
       "      <td>mon</td>\n",
       "      <td>nonexistent</td>\n",
       "      <td>no</td>\n",
       "    </tr>\n",
       "    <tr>\n",
       "      <th>2</th>\n",
       "      <td>services</td>\n",
       "      <td>married</td>\n",
       "      <td>high.school</td>\n",
       "      <td>no</td>\n",
       "      <td>yes</td>\n",
       "      <td>no</td>\n",
       "      <td>telephone</td>\n",
       "      <td>may</td>\n",
       "      <td>mon</td>\n",
       "      <td>nonexistent</td>\n",
       "      <td>no</td>\n",
       "    </tr>\n",
       "    <tr>\n",
       "      <th>3</th>\n",
       "      <td>admin.</td>\n",
       "      <td>married</td>\n",
       "      <td>basic.6y</td>\n",
       "      <td>no</td>\n",
       "      <td>no</td>\n",
       "      <td>no</td>\n",
       "      <td>telephone</td>\n",
       "      <td>may</td>\n",
       "      <td>mon</td>\n",
       "      <td>nonexistent</td>\n",
       "      <td>no</td>\n",
       "    </tr>\n",
       "    <tr>\n",
       "      <th>4</th>\n",
       "      <td>services</td>\n",
       "      <td>married</td>\n",
       "      <td>high.school</td>\n",
       "      <td>no</td>\n",
       "      <td>no</td>\n",
       "      <td>yes</td>\n",
       "      <td>telephone</td>\n",
       "      <td>may</td>\n",
       "      <td>mon</td>\n",
       "      <td>nonexistent</td>\n",
       "      <td>no</td>\n",
       "    </tr>\n",
       "  </tbody>\n",
       "</table>\n",
       "</div>"
      ],
      "text/plain": [
       "         job  marital    education default housing loan    contact month  \\\n",
       "0  housemaid  married     basic.4y      no      no   no  telephone   may   \n",
       "1   services  married  high.school     NaN      no   no  telephone   may   \n",
       "2   services  married  high.school      no     yes   no  telephone   may   \n",
       "3     admin.  married     basic.6y      no      no   no  telephone   may   \n",
       "4   services  married  high.school      no      no  yes  telephone   may   \n",
       "\n",
       "  day_of_week     poutcome   y  \n",
       "0         mon  nonexistent  no  \n",
       "1         mon  nonexistent  no  \n",
       "2         mon  nonexistent  no  \n",
       "3         mon  nonexistent  no  \n",
       "4         mon  nonexistent  no  "
      ]
     },
     "execution_count": 14,
     "metadata": {},
     "output_type": "execute_result"
    }
   ],
   "source": [
    "bank_df[\n",
    "    categorical_columns\n",
    "].head()"
   ]
  },
  {
   "cell_type": "markdown",
   "id": "83d5a275",
   "metadata": {},
   "source": [
    "# Mencetak semua nilai unik pada masing-masing kolom kategori\n",
    "for cat_col in categorical_columns:\n",
    "    print(\"Nilai unik untuk kolom \", cat_col.upper())\n",
    "    print(bank_df[cat_col].unique())\n",
    "    print('='*30)"
   ]
  },
  {
   "cell_type": "markdown",
   "id": "b5704ed8",
   "metadata": {},
   "source": [
    "Semua nilai di masing-masing atribut sudah sesuai dengan apa yang tertera dari deskripsi dataset yang diterima. Sehingga tidak ada invalid values pada kolom kategorikal.\n",
    "Pada kelas target y juga hanya terdapat dua nilai unik yaitu no dan yes dan tidak terdapat missing values, sehingga tidak diperlukan dropping data karena ada kelas target yang missing values"
   ]
  },
  {
   "cell_type": "markdown",
   "id": "0f6a43a7",
   "metadata": {},
   "source": [
    "### Melihat unstandard missing values pada kolom numerikal"
   ]
  },
  {
   "cell_type": "code",
   "execution_count": 15,
   "id": "73627fd8",
   "metadata": {},
   "outputs": [
    {
     "data": {
      "text/html": [
       "<div>\n",
       "<style scoped>\n",
       "    .dataframe tbody tr th:only-of-type {\n",
       "        vertical-align: middle;\n",
       "    }\n",
       "\n",
       "    .dataframe tbody tr th {\n",
       "        vertical-align: top;\n",
       "    }\n",
       "\n",
       "    .dataframe thead th {\n",
       "        text-align: right;\n",
       "    }\n",
       "</style>\n",
       "<table border=\"1\" class=\"dataframe\">\n",
       "  <thead>\n",
       "    <tr style=\"text-align: right;\">\n",
       "      <th></th>\n",
       "      <th>age</th>\n",
       "      <th>duration</th>\n",
       "      <th>campaign</th>\n",
       "      <th>pdays</th>\n",
       "      <th>previous</th>\n",
       "      <th>emp.var.rate</th>\n",
       "      <th>cons.price.idx</th>\n",
       "      <th>cons.conf.idx</th>\n",
       "      <th>euribor3m</th>\n",
       "      <th>nr.employed</th>\n",
       "    </tr>\n",
       "  </thead>\n",
       "  <tbody>\n",
       "    <tr>\n",
       "      <th>0</th>\n",
       "      <td>56</td>\n",
       "      <td>261</td>\n",
       "      <td>1</td>\n",
       "      <td>999</td>\n",
       "      <td>0</td>\n",
       "      <td>1.1</td>\n",
       "      <td>93994.0</td>\n",
       "      <td>-36.4</td>\n",
       "      <td>4857.0</td>\n",
       "      <td>5191.0</td>\n",
       "    </tr>\n",
       "    <tr>\n",
       "      <th>1</th>\n",
       "      <td>57</td>\n",
       "      <td>149</td>\n",
       "      <td>1</td>\n",
       "      <td>999</td>\n",
       "      <td>0</td>\n",
       "      <td>1.1</td>\n",
       "      <td>93994.0</td>\n",
       "      <td>-36.4</td>\n",
       "      <td>4857.0</td>\n",
       "      <td>5191.0</td>\n",
       "    </tr>\n",
       "    <tr>\n",
       "      <th>2</th>\n",
       "      <td>37</td>\n",
       "      <td>226</td>\n",
       "      <td>1</td>\n",
       "      <td>999</td>\n",
       "      <td>0</td>\n",
       "      <td>1.1</td>\n",
       "      <td>93994.0</td>\n",
       "      <td>-36.4</td>\n",
       "      <td>4857.0</td>\n",
       "      <td>5191.0</td>\n",
       "    </tr>\n",
       "    <tr>\n",
       "      <th>3</th>\n",
       "      <td>40</td>\n",
       "      <td>151</td>\n",
       "      <td>1</td>\n",
       "      <td>999</td>\n",
       "      <td>0</td>\n",
       "      <td>1.1</td>\n",
       "      <td>93994.0</td>\n",
       "      <td>-36.4</td>\n",
       "      <td>4857.0</td>\n",
       "      <td>5191.0</td>\n",
       "    </tr>\n",
       "    <tr>\n",
       "      <th>4</th>\n",
       "      <td>56</td>\n",
       "      <td>307</td>\n",
       "      <td>1</td>\n",
       "      <td>999</td>\n",
       "      <td>0</td>\n",
       "      <td>1.1</td>\n",
       "      <td>93994.0</td>\n",
       "      <td>-36.4</td>\n",
       "      <td>4857.0</td>\n",
       "      <td>5191.0</td>\n",
       "    </tr>\n",
       "  </tbody>\n",
       "</table>\n",
       "</div>"
      ],
      "text/plain": [
       "   age  duration  campaign  pdays  previous  emp.var.rate  cons.price.idx  \\\n",
       "0   56       261         1    999         0           1.1         93994.0   \n",
       "1   57       149         1    999         0           1.1         93994.0   \n",
       "2   37       226         1    999         0           1.1         93994.0   \n",
       "3   40       151         1    999         0           1.1         93994.0   \n",
       "4   56       307         1    999         0           1.1         93994.0   \n",
       "\n",
       "   cons.conf.idx  euribor3m  nr.employed  \n",
       "0          -36.4     4857.0       5191.0  \n",
       "1          -36.4     4857.0       5191.0  \n",
       "2          -36.4     4857.0       5191.0  \n",
       "3          -36.4     4857.0       5191.0  \n",
       "4          -36.4     4857.0       5191.0  "
      ]
     },
     "execution_count": 15,
     "metadata": {},
     "output_type": "execute_result"
    }
   ],
   "source": [
    "bank_df[\n",
    "    numerical_columns\n",
    "].head()"
   ]
  },
  {
   "cell_type": "markdown",
   "id": "8a18cc3f",
   "metadata": {},
   "source": [
    "Terlihat bahwa atribut pdays ada nilai 999 yang menandakan klien sebelumnya tidak dihubungi. Ini bisa diganti dengan nilai 0. Akan diperiksa juga nilai-nilai yang \"aneh\" untuk atribut numerikal lainnya"
   ]
  },
  {
   "cell_type": "code",
   "execution_count": 16,
   "id": "7edaad58",
   "metadata": {},
   "outputs": [
    {
     "name": "stdout",
     "output_type": "stream",
     "text": [
      "Nilai unik untuk kolom  AGE\n",
      "[56 57 37 40 45 59 41 24 25 29 35 54 46 50 39 30 55 49 34 52 58 32 38 44\n",
      " 42 60 53 47 51 48 33 31 43 36 28 27 26 22 23 20 21 61 19 18 70 66 76 67\n",
      " 73 88 95 77 68 75 63 80 62 65 72 82 64 71 69 78 85 79 83 81 74 17 87 91\n",
      " 86 98 94 84 92 89]\n",
      "==============================\n",
      "Nilai unik untuk kolom  DURATION\n",
      "[ 261  149  226 ... 1246 1556 1868]\n",
      "==============================\n",
      "Nilai unik untuk kolom  CAMPAIGN\n",
      "[ 1  2  3  4  5  6  7  8  9 10 11 12 13 19 18 23 14 22 25 16 17 15 20 56\n",
      " 39 35 42 28 26 27 32 21 24 29 31 30 41 37 40 33 34 43]\n",
      "==============================\n",
      "Nilai unik untuk kolom  PDAYS\n",
      "[999   6   4   3   5   1   0  10   7   8   9  11   2  12  13  14  15  16\n",
      "  21  17  18  22  25  26  19  27  20]\n",
      "==============================\n",
      "Nilai unik untuk kolom  PREVIOUS\n",
      "[0 1 2 3 4 5 6 7]\n",
      "==============================\n",
      "Nilai unik untuk kolom  EMP.VAR.RATE\n",
      "[ 1.1  1.4 -0.1 -0.2 -1.8 -2.9 -3.4 -3.  -1.7 -1.1]\n",
      "==============================\n",
      "Nilai unik untuk kolom  CONS.PRICE.IDX\n",
      "[9.3994e+04 9.4465e+04 9.3918e+04 9.3444e+04 9.3798e+04 9.3200e+01\n",
      " 9.2756e+04 9.2843e+04 9.3075e+04 9.2893e+04 9.2963e+04 9.2469e+04\n",
      " 9.2201e+04 9.2379e+04 9.2431e+04 9.2649e+04 9.2713e+04 9.3369e+04\n",
      " 9.3749e+04 9.3876e+04 9.4055e+04 9.4215e+04 9.4027e+04 9.4199e+04\n",
      " 9.4601e+04 9.4767e+04]\n",
      "==============================\n",
      "Nilai unik untuk kolom  CONS.CONF.IDX\n",
      "[-36.4 -41.8 -42.7 -36.1 -40.4 -42.  -45.9 -50.  -47.1 -46.2 -40.8 -33.6\n",
      " -31.4 -29.8 -26.9 -30.1 -33.  -34.8 -34.6 -40.  -39.8 -40.3 -38.3 -37.5\n",
      " -49.5 -50.8]\n",
      "==============================\n",
      "Nilai unik untuk kolom  EURIBOR3M\n",
      "[4.857e+03 4.856e+03 4.855e+03 4.859e+03 4.860e+00 4.858e+03 4.864e+03\n",
      " 4.865e+03 4.866e+03 4.967e+03 4.961e+03 4.959e+03 4.958e+03 4.960e+00\n",
      " 4.962e+03 4.955e+03 4.947e+03 4.956e+03 4.966e+03 4.963e+03 4.957e+03\n",
      " 4.968e+03 4.970e+00 4.965e+03 4.964e+03 5.045e+03 5.000e+00 4.936e+03\n",
      " 4.921e+03 4.918e+03 4.912e+03 4.827e+03 4.794e+03 4.760e+00 4.733e+03\n",
      " 4.700e+00 4.663e+03 4.592e+03 4.474e+03 4.406e+03 4.343e+03 4.286e+03\n",
      " 4.245e+03 4.223e+03 4.191e+03 4.153e+03 4.120e+00 4.076e+03 4.021e+03\n",
      " 3.901e+03 3.879e+03 3.853e+03 3.816e+03 3.743e+03 3.669e+03 3.563e+03\n",
      " 3.488e+03 3.428e+03 3.329e+03 3.282e+03 3.053e+03 1.811e+03 1.799e+03\n",
      " 1.778e+03 1.757e+03 1.726e+03 1.703e+03 1.687e+03 1.663e+03 1.650e+00\n",
      " 1.640e+00 1.629e+03 1.614e+03 1.602e+03 1.584e+03 1.574e+03 1.560e+00\n",
      " 1.556e+03 1.548e+03 1.538e+03 1.531e+03 1.520e+00 1.510e+00 1.498e+03\n",
      " 1.483e+03 1.479e+03 1.466e+03 1.453e+03 1.445e+03 1.435e+03 1.423e+03\n",
      " 1.415e+03 1.410e+00 1.405e+03 1.406e+03 1.400e+00 1.392e+03 1.384e+03\n",
      " 1.372e+03 1.365e+03 1.354e+03 1.344e+03 1.334e+03 1.327e+03 1.313e+03\n",
      " 1.299e+03 1.291e+03 1.281e+03 1.266e+03 1.250e+00 1.244e+03 1.259e+03\n",
      " 1.264e+03 1.270e+00 1.262e+03 1.260e+00 1.268e+03 1.286e+03 1.252e+03\n",
      " 1.235e+03 1.224e+03 1.215e+03 1.206e+03 1.099e+03 1.085e+03 1.072e+03\n",
      " 1.059e+03 1.048e+03 1.044e+03 1.029e+03 1.018e+03 1.007e+03 9.960e-01\n",
      " 9.790e-01 9.690e-01 9.440e-01 9.370e-01 9.330e-01 9.270e-01 9.210e-01\n",
      " 9.140e-01 9.080e-01 9.030e-01 8.990e-01 8.840e-01 8.830e-01 8.810e-01\n",
      " 8.790e-01 8.730e-01 8.690e-01 8.610e-01 8.590e-01 8.540e-01 8.510e-01\n",
      " 8.490e-01 8.430e-01 8.380e-01 8.340e-01 8.290e-01 8.250e-01 8.210e-01\n",
      " 8.190e-01 8.130e-01 8.090e-01 8.030e-01 7.970e-01 7.880e-01 7.810e-01\n",
      " 7.780e-01 7.730e-01 7.710e-01 7.700e-01 7.680e-01 7.660e-01 7.620e-01\n",
      " 7.550e-01 7.490e-01 7.430e-01 7.410e-01 7.390e-01 7.500e-01 7.530e-01\n",
      " 7.540e-01 7.520e-01 7.440e-01 7.400e-01 7.420e-01 7.370e-01 7.350e-01\n",
      " 7.330e-01 7.300e-01 7.310e-01 7.280e-01 7.240e-01 7.220e-01 7.200e-01\n",
      " 7.190e-01 7.160e-01 7.150e-01 7.140e-01 7.180e-01 7.210e-01 7.170e-01\n",
      " 7.120e-01 7.100e-01 7.090e-01 7.080e-01 7.060e-01 7.070e-01 7.000e-01\n",
      " 6.550e-01 6.540e-01 6.530e-01 6.520e-01 6.510e-01 6.500e-01 6.490e-01\n",
      " 6.460e-01 6.440e-01 6.430e-01 6.390e-01 6.370e-01 6.350e-01 6.360e-01\n",
      " 6.340e-01 6.380e-01 6.400e-01 6.420e-01 6.450e-01 6.590e-01 6.630e-01\n",
      " 6.680e-01 6.720e-01 6.770e-01 6.820e-01 6.830e-01 6.840e-01 6.850e-01\n",
      " 6.880e-01 6.900e-01 6.920e-01 6.950e-01 6.970e-01 6.990e-01 7.010e-01\n",
      " 7.020e-01 7.040e-01 7.110e-01 7.130e-01 7.230e-01 7.270e-01 7.290e-01\n",
      " 7.320e-01 7.480e-01 7.610e-01 7.670e-01 7.820e-01 7.900e-01 7.930e-01\n",
      " 8.020e-01 8.100e-01 8.220e-01 8.270e-01 8.350e-01 8.400e-01 8.460e-01\n",
      " 8.700e-01 8.760e-01 8.850e-01 8.890e-01 8.930e-01 8.960e-01 8.980e-01\n",
      " 9.000e-01 9.040e-01 9.050e-01 8.950e-01 8.940e-01 8.910e-01 8.900e-01\n",
      " 8.880e-01 8.860e-01 8.820e-01 8.800e-01 8.780e-01 8.770e-01 9.420e-01\n",
      " 9.530e-01 9.560e-01 9.590e-01 9.650e-01 9.720e-01 9.770e-01 9.820e-01\n",
      " 9.850e-01 9.870e-01 9.930e-01 1.000e+00 1.008e+03 1.016e+03 1.025e+03\n",
      " 1.032e+03 1.037e+03 1.043e+03 1.045e+03 1.047e+03 1.050e+00 1.049e+03\n",
      " 1.046e+03 1.041e+03 1.040e+00 1.039e+03 1.035e+03 1.030e+00 1.031e+03\n",
      " 1.028e+03]\n",
      "==============================\n",
      "Nilai unik untuk kolom  NR.EMPLOYED\n",
      "[5191.  5228.1 5195.8 5176.3 5099.1 5076.2 5017.5 5023.5 5008.7 4991.6\n",
      " 4963.6]\n",
      "==============================\n"
     ]
    }
   ],
   "source": [
    "# Mencetak semua nilai unik pada setiap atribut numerikal\n",
    "for num_col in numerical_columns:\n",
    "    print(\"Nilai unik untuk kolom \", num_col.upper())\n",
    "    print(bank_df[num_col].unique())\n",
    "    print('='*30)"
   ]
  },
  {
   "cell_type": "markdown",
   "id": "e9a086aa",
   "metadata": {},
   "source": [
    "Semua nilai yang ada untuk setiap kolom numerik tidak ada keanehan dengan nilai-nilai yang lainnya. Hanya pdays yang memiliki nilai yang aneh yaitu 999, sehingga nilai ini akan diganti menjadi 0 (sesuai deskripsi dataset yang diterima)"
   ]
  },
  {
   "cell_type": "code",
   "execution_count": 17,
   "id": "7d2be02c",
   "metadata": {},
   "outputs": [],
   "source": [
    "# mengganti nilai 999 pada pdays \n",
    "bank_df['pdays'].replace(999,0,inplace=True)"
   ]
  },
  {
   "cell_type": "markdown",
   "id": "f66fe9b0",
   "metadata": {},
   "source": [
    "#### Merangkum total missing values (nan) values"
   ]
  },
  {
   "cell_type": "code",
   "execution_count": 18,
   "id": "61559d8a",
   "metadata": {},
   "outputs": [
    {
     "name": "stdout",
     "output_type": "stream",
     "text": [
      "Jumlah nan missing values atribut kategori =  12718\n",
      "Jumlah nan missing values atribut numerikal =  0\n"
     ]
    }
   ],
   "source": [
    "# missing values pada data train\n",
    "print(\"Jumlah nan missing values atribut kategori = \",bank_df[categorical_columns].isnull().sum().sum())\n",
    "print(\"Jumlah nan missing values atribut numerikal = \",bank_df[numerical_columns].isnull().sum().sum())"
   ]
  },
  {
   "cell_type": "markdown",
   "id": "39e193ca",
   "metadata": {},
   "source": [
    "Hanya data kategorikal yang mengandung missing values dan data numerikal tidak mengandung missing values. Akan dilakukan strageti penanganan missing values untuk data kategorikal"
   ]
  },
  {
   "cell_type": "markdown",
   "id": "8cc3c4d0",
   "metadata": {},
   "source": [
    "#### Penanganan Missing Values\n",
    "Untuk data kategorikal, missing values akan diisi dengan modus dari atribut X, sedangkan untuk data numerikal missing values akan diisi dengan median dari atribut Z."
   ]
  },
  {
   "cell_type": "markdown",
   "id": "0bdaa244",
   "metadata": {},
   "source": [
    "#### Pisahkan data yang bertipe kategorik dan numerik"
   ]
  },
  {
   "cell_type": "code",
   "execution_count": 19,
   "id": "73841446",
   "metadata": {},
   "outputs": [],
   "source": [
    "# categorical data\n",
    "bank_df_categorical = bank_df[categorical_columns]\n",
    "\n",
    "# numerical data\n",
    "bank_df_numerical = bank_df[numerical_columns]"
   ]
  },
  {
   "cell_type": "markdown",
   "id": "28c0ef93",
   "metadata": {},
   "source": [
    "#### Instansiasi kelas Imputer untuk filling nan pada atribut kategorikal"
   ]
  },
  {
   "cell_type": "code",
   "execution_count": 20,
   "id": "12e34803",
   "metadata": {},
   "outputs": [],
   "source": [
    "# instansiasi kelas SimpleImputer untuk imputer atribut kategorikal\n",
    "imputer_categorical = SimpleImputer(missing_values=np.nan, strategy='most_frequent')"
   ]
  },
  {
   "cell_type": "markdown",
   "id": "fed8d80d",
   "metadata": {},
   "source": [
    "#### Fit data training categorical into imputer, transform into training and testing categorical"
   ]
  },
  {
   "cell_type": "code",
   "execution_count": 21,
   "id": "1f2e827e",
   "metadata": {},
   "outputs": [
    {
     "data": {
      "text/plain": [
       "SimpleImputer(strategy='most_frequent')"
      ]
     },
     "execution_count": 21,
     "metadata": {},
     "output_type": "execute_result"
    }
   ],
   "source": [
    "# fit dengan data training\n",
    "imputer_categorical.fit(bank_df_categorical)"
   ]
  },
  {
   "cell_type": "code",
   "execution_count": 22,
   "id": "d963c5ac",
   "metadata": {},
   "outputs": [],
   "source": [
    "# transform ke data latih\n",
    "bank_df_categorical = imputer_categorical.transform(bank_df_categorical)"
   ]
  },
  {
   "cell_type": "markdown",
   "id": "c83daf07",
   "metadata": {},
   "source": [
    "#### Membuat numpy array hasil imputer transform ke dalam dataframe"
   ]
  },
  {
   "cell_type": "code",
   "execution_count": 23,
   "id": "95d021be",
   "metadata": {},
   "outputs": [],
   "source": [
    "# buat hasil array ke dalam dataframe\n",
    "bank_df_categorical = pd.DataFrame(bank_df_categorical,columns=categorical_columns)"
   ]
  },
  {
   "cell_type": "markdown",
   "id": "b2958db7",
   "metadata": {},
   "source": [
    "#### Concate categorical columns dengan numerical columns"
   ]
  },
  {
   "cell_type": "code",
   "execution_count": 24,
   "id": "4d9bae6a",
   "metadata": {},
   "outputs": [],
   "source": [
    "bank_df = pd.concat([bank_df_numerical,bank_df_categorical],axis=1)"
   ]
  },
  {
   "cell_type": "markdown",
   "id": "59cb7e93",
   "metadata": {},
   "source": [
    "#### Check kalau masih ada missing values terlewat"
   ]
  },
  {
   "cell_type": "code",
   "execution_count": 25,
   "id": "861e0592",
   "metadata": {},
   "outputs": [
    {
     "name": "stdout",
     "output_type": "stream",
     "text": [
      "Jumlah nan missing values atribut kategori =  0\n",
      "Jumlah nan missing values atribut numerikal =  0\n"
     ]
    }
   ],
   "source": [
    "# missing values pada data train\n",
    "print(\"Jumlah nan missing values atribut kategori = \",bank_df[categorical_columns].isnull().sum().sum())\n",
    "print(\"Jumlah nan missing values atribut numerikal = \",bank_df[numerical_columns].isnull().sum().sum())"
   ]
  },
  {
   "cell_type": "markdown",
   "id": "861065b7",
   "metadata": {},
   "source": [
    "Setelah dilakukan imputasi, tidak ada missing values yang tersisa"
   ]
  },
  {
   "cell_type": "markdown",
   "id": "8e79934e",
   "metadata": {},
   "source": [
    "#### Rename nama atribut pada data"
   ]
  },
  {
   "cell_type": "code",
   "execution_count": 26,
   "id": "9819625b",
   "metadata": {},
   "outputs": [],
   "source": [
    "bank_df.rename(columns={\n",
    "    'job':'pekerjaan',\n",
    "    'marital':'pernikahan',\n",
    "    'education':'pendidikan',\n",
    "    'default':'kredit_default',\n",
    "    'housing':'pinjaman_rumah',\n",
    "    'loan':'pinjaman_pribadi',\n",
    "    'contact':'alat_komunikasi',\n",
    "    'month':'kontak_terakhir_bulan',\n",
    "    'day_of_week':'kontak_terakhir_hari',\n",
    "    'poutcome':'luaran_marketing_sebelumnya',\n",
    "    'y':'berlangganan_deposito',\n",
    "    'age':'umur',\n",
    "    'duration':'kontak_terakhir_berdurasi',\n",
    "    'campaign':'jumlah_kontak_selama_pemasaran',\n",
    "    'pdays':'jumlah_hari_berlalu',\n",
    "    'previous':'jumlah_kontak_sebelum_pemasaran',\n",
    "    'emp.var.rate':'tingkat_variasi_pekerjaan',\n",
    "    'cons.price.idx':'indeks_harga_konsumen',\n",
    "    'cons.conf.idx':'indeks_kepercayaan_konsumen',\n",
    "    'euribor3m':'tarif_euribor_3bulan',\n",
    "    'nr.employed':'jumlah_karyawan',\n",
    "},inplace=True)"
   ]
  },
  {
   "cell_type": "markdown",
   "id": "d537a197",
   "metadata": {},
   "source": [
    "#### Menampilkan 5 data teratas setelah imputasi missing values pada categorical columns"
   ]
  },
  {
   "cell_type": "code",
   "execution_count": 27,
   "id": "ecdfc464",
   "metadata": {},
   "outputs": [
    {
     "data": {
      "text/html": [
       "<div>\n",
       "<style scoped>\n",
       "    .dataframe tbody tr th:only-of-type {\n",
       "        vertical-align: middle;\n",
       "    }\n",
       "\n",
       "    .dataframe tbody tr th {\n",
       "        vertical-align: top;\n",
       "    }\n",
       "\n",
       "    .dataframe thead th {\n",
       "        text-align: right;\n",
       "    }\n",
       "</style>\n",
       "<table border=\"1\" class=\"dataframe\">\n",
       "  <thead>\n",
       "    <tr style=\"text-align: right;\">\n",
       "      <th></th>\n",
       "      <th>umur</th>\n",
       "      <th>kontak_terakhir_berdurasi</th>\n",
       "      <th>jumlah_kontak_selama_pemasaran</th>\n",
       "      <th>jumlah_hari_berlalu</th>\n",
       "      <th>jumlah_kontak_sebelum_pemasaran</th>\n",
       "      <th>tingkat_variasi_pekerjaan</th>\n",
       "      <th>indeks_harga_konsumen</th>\n",
       "      <th>indeks_kepercayaan_konsumen</th>\n",
       "      <th>tarif_euribor_3bulan</th>\n",
       "      <th>jumlah_karyawan</th>\n",
       "      <th>...</th>\n",
       "      <th>pernikahan</th>\n",
       "      <th>pendidikan</th>\n",
       "      <th>kredit_default</th>\n",
       "      <th>pinjaman_rumah</th>\n",
       "      <th>pinjaman_pribadi</th>\n",
       "      <th>alat_komunikasi</th>\n",
       "      <th>kontak_terakhir_bulan</th>\n",
       "      <th>kontak_terakhir_hari</th>\n",
       "      <th>luaran_marketing_sebelumnya</th>\n",
       "      <th>berlangganan_deposito</th>\n",
       "    </tr>\n",
       "  </thead>\n",
       "  <tbody>\n",
       "    <tr>\n",
       "      <th>0</th>\n",
       "      <td>56</td>\n",
       "      <td>261</td>\n",
       "      <td>1</td>\n",
       "      <td>0</td>\n",
       "      <td>0</td>\n",
       "      <td>1.1</td>\n",
       "      <td>93994.0</td>\n",
       "      <td>-36.4</td>\n",
       "      <td>4857.0</td>\n",
       "      <td>5191.0</td>\n",
       "      <td>...</td>\n",
       "      <td>married</td>\n",
       "      <td>basic.4y</td>\n",
       "      <td>no</td>\n",
       "      <td>no</td>\n",
       "      <td>no</td>\n",
       "      <td>telephone</td>\n",
       "      <td>may</td>\n",
       "      <td>mon</td>\n",
       "      <td>nonexistent</td>\n",
       "      <td>no</td>\n",
       "    </tr>\n",
       "    <tr>\n",
       "      <th>1</th>\n",
       "      <td>57</td>\n",
       "      <td>149</td>\n",
       "      <td>1</td>\n",
       "      <td>0</td>\n",
       "      <td>0</td>\n",
       "      <td>1.1</td>\n",
       "      <td>93994.0</td>\n",
       "      <td>-36.4</td>\n",
       "      <td>4857.0</td>\n",
       "      <td>5191.0</td>\n",
       "      <td>...</td>\n",
       "      <td>married</td>\n",
       "      <td>high.school</td>\n",
       "      <td>no</td>\n",
       "      <td>no</td>\n",
       "      <td>no</td>\n",
       "      <td>telephone</td>\n",
       "      <td>may</td>\n",
       "      <td>mon</td>\n",
       "      <td>nonexistent</td>\n",
       "      <td>no</td>\n",
       "    </tr>\n",
       "    <tr>\n",
       "      <th>2</th>\n",
       "      <td>37</td>\n",
       "      <td>226</td>\n",
       "      <td>1</td>\n",
       "      <td>0</td>\n",
       "      <td>0</td>\n",
       "      <td>1.1</td>\n",
       "      <td>93994.0</td>\n",
       "      <td>-36.4</td>\n",
       "      <td>4857.0</td>\n",
       "      <td>5191.0</td>\n",
       "      <td>...</td>\n",
       "      <td>married</td>\n",
       "      <td>high.school</td>\n",
       "      <td>no</td>\n",
       "      <td>yes</td>\n",
       "      <td>no</td>\n",
       "      <td>telephone</td>\n",
       "      <td>may</td>\n",
       "      <td>mon</td>\n",
       "      <td>nonexistent</td>\n",
       "      <td>no</td>\n",
       "    </tr>\n",
       "    <tr>\n",
       "      <th>3</th>\n",
       "      <td>40</td>\n",
       "      <td>151</td>\n",
       "      <td>1</td>\n",
       "      <td>0</td>\n",
       "      <td>0</td>\n",
       "      <td>1.1</td>\n",
       "      <td>93994.0</td>\n",
       "      <td>-36.4</td>\n",
       "      <td>4857.0</td>\n",
       "      <td>5191.0</td>\n",
       "      <td>...</td>\n",
       "      <td>married</td>\n",
       "      <td>basic.6y</td>\n",
       "      <td>no</td>\n",
       "      <td>no</td>\n",
       "      <td>no</td>\n",
       "      <td>telephone</td>\n",
       "      <td>may</td>\n",
       "      <td>mon</td>\n",
       "      <td>nonexistent</td>\n",
       "      <td>no</td>\n",
       "    </tr>\n",
       "    <tr>\n",
       "      <th>4</th>\n",
       "      <td>56</td>\n",
       "      <td>307</td>\n",
       "      <td>1</td>\n",
       "      <td>0</td>\n",
       "      <td>0</td>\n",
       "      <td>1.1</td>\n",
       "      <td>93994.0</td>\n",
       "      <td>-36.4</td>\n",
       "      <td>4857.0</td>\n",
       "      <td>5191.0</td>\n",
       "      <td>...</td>\n",
       "      <td>married</td>\n",
       "      <td>high.school</td>\n",
       "      <td>no</td>\n",
       "      <td>no</td>\n",
       "      <td>yes</td>\n",
       "      <td>telephone</td>\n",
       "      <td>may</td>\n",
       "      <td>mon</td>\n",
       "      <td>nonexistent</td>\n",
       "      <td>no</td>\n",
       "    </tr>\n",
       "  </tbody>\n",
       "</table>\n",
       "<p>5 rows × 21 columns</p>\n",
       "</div>"
      ],
      "text/plain": [
       "   umur  kontak_terakhir_berdurasi  jumlah_kontak_selama_pemasaran  \\\n",
       "0    56                        261                               1   \n",
       "1    57                        149                               1   \n",
       "2    37                        226                               1   \n",
       "3    40                        151                               1   \n",
       "4    56                        307                               1   \n",
       "\n",
       "   jumlah_hari_berlalu  jumlah_kontak_sebelum_pemasaran  \\\n",
       "0                    0                                0   \n",
       "1                    0                                0   \n",
       "2                    0                                0   \n",
       "3                    0                                0   \n",
       "4                    0                                0   \n",
       "\n",
       "   tingkat_variasi_pekerjaan  indeks_harga_konsumen  \\\n",
       "0                        1.1                93994.0   \n",
       "1                        1.1                93994.0   \n",
       "2                        1.1                93994.0   \n",
       "3                        1.1                93994.0   \n",
       "4                        1.1                93994.0   \n",
       "\n",
       "   indeks_kepercayaan_konsumen  tarif_euribor_3bulan  jumlah_karyawan  ...  \\\n",
       "0                        -36.4                4857.0           5191.0  ...   \n",
       "1                        -36.4                4857.0           5191.0  ...   \n",
       "2                        -36.4                4857.0           5191.0  ...   \n",
       "3                        -36.4                4857.0           5191.0  ...   \n",
       "4                        -36.4                4857.0           5191.0  ...   \n",
       "\n",
       "  pernikahan   pendidikan kredit_default pinjaman_rumah pinjaman_pribadi  \\\n",
       "0    married     basic.4y             no             no               no   \n",
       "1    married  high.school             no             no               no   \n",
       "2    married  high.school             no            yes               no   \n",
       "3    married     basic.6y             no             no               no   \n",
       "4    married  high.school             no             no              yes   \n",
       "\n",
       "  alat_komunikasi kontak_terakhir_bulan kontak_terakhir_hari  \\\n",
       "0       telephone                   may                  mon   \n",
       "1       telephone                   may                  mon   \n",
       "2       telephone                   may                  mon   \n",
       "3       telephone                   may                  mon   \n",
       "4       telephone                   may                  mon   \n",
       "\n",
       "  luaran_marketing_sebelumnya berlangganan_deposito  \n",
       "0                 nonexistent                    no  \n",
       "1                 nonexistent                    no  \n",
       "2                 nonexistent                    no  \n",
       "3                 nonexistent                    no  \n",
       "4                 nonexistent                    no  \n",
       "\n",
       "[5 rows x 21 columns]"
      ]
     },
     "execution_count": 27,
     "metadata": {},
     "output_type": "execute_result"
    }
   ],
   "source": [
    "bank_df.head()"
   ]
  },
  {
   "cell_type": "markdown",
   "id": "39fa4a99",
   "metadata": {},
   "source": [
    "### Eksplorasi Data (Visualisasi)\n",
    "#### Berapa persentase setiap nilai pada kelas target?"
   ]
  },
  {
   "cell_type": "code",
   "execution_count": 28,
   "id": "6bd1ceee",
   "metadata": {},
   "outputs": [
    {
     "data": {
      "text/plain": [
       "no     36548\n",
       "yes     4640\n",
       "Name: berlangganan_deposito, dtype: int64"
      ]
     },
     "execution_count": 28,
     "metadata": {},
     "output_type": "execute_result"
    }
   ],
   "source": [
    "bank_df['berlangganan_deposito'].value_counts()"
   ]
  },
  {
   "cell_type": "code",
   "execution_count": 29,
   "id": "64491398",
   "metadata": {},
   "outputs": [
    {
     "data": {
      "text/plain": [
       "<matplotlib.legend.Legend at 0x2977fa28490>"
      ]
     },
     "execution_count": 29,
     "metadata": {},
     "output_type": "execute_result"
    },
    {
     "data": {
      "image/png": "[encoded data removed]",
      "text/plain": [
       "<Figure size 1152x432 with 2 Axes>"
      ]
     },
     "metadata": {
      "needs_background": "light"
     },
     "output_type": "display_data"
    }
   ],
   "source": [
    "fig, ax = plt.subplots(1,2,figsize=(16,6))\n",
    "\n",
    "# persentase \"berlangganan deposito\"\n",
    "bank_df['berlangganan_deposito'].value_counts().plot(\n",
    "    kind='pie',\n",
    "    autopct='%.1f%%',\n",
    "    explode=[0,0.05], \n",
    "    cmap='cool',\n",
    "    shadow=True,\n",
    "    ax=ax[0]\n",
    ")\n",
    "ax[0].set_title('Persentase Berlangganan Deposito')\n",
    "ax[0].set_ylabel('')\n",
    "\n",
    "# Barchart besaran setiap nilai pada kelas target\n",
    "bank_df.groupby('berlangganan_deposito').agg({'berlangganan_deposito':'count'}).plot(\n",
    "    kind='bar',\n",
    "    ax=ax[1]\n",
    ")\n",
    "ax[1].set_title('Jumlah masing-masing kelas pada label')\n",
    "ax[1].set_ylabel('Jumlah')\n",
    "ax[1].set_xlabel('Berlangganan Deposito')\n",
    "ax[1].legend(title='Deposit')"
   ]
  },
  {
   "cell_type": "markdown",
   "id": "560db83e",
   "metadata": {},
   "source": [
    "Terlihat bahwa dari data yang diperoleh, ada ketidakseimbangan proporsi dari setiap nilai pada label kelas. Hal ini mungkin akan berpengaruh kepada hasil recall klasifikasi yang rendah. Undersampling bisa jadi opsi ketika performa model klasifikasi tidak cukup bagus untuk mengenali kelas 'yes'\n",
    "Nilai yes bahkan 7x lebih sedikit dibandingkan nilai no"
   ]
  },
  {
   "cell_type": "markdown",
   "id": "c0d21914",
   "metadata": {},
   "source": [
    "#### Bagaimana kecenderungan berlangganan deposit dilihat dari status pernikahan?"
   ]
  },
  {
   "cell_type": "code",
   "execution_count": 30,
   "id": "98962150",
   "metadata": {},
   "outputs": [
    {
     "data": {
      "text/plain": [
       "<matplotlib.legend.Legend at 0x2977facc550>"
      ]
     },
     "execution_count": 30,
     "metadata": {},
     "output_type": "execute_result"
    },
    {
     "data": {
      "image/png": "[encoded data removed]",
      "text/plain": [
       "<Figure size 1152x432 with 2 Axes>"
      ]
     },
     "metadata": {
      "needs_background": "light"
     },
     "output_type": "display_data"
    }
   ],
   "source": [
    "fig, ax = plt.subplots(1,2,figsize=(16,6))\n",
    "\n",
    "# persentase \"marital\"\n",
    "bank_df['pernikahan'].value_counts().plot(\n",
    "    kind='pie', \n",
    "    ax=ax[0], \n",
    "    autopct='%.1f%%',\n",
    "    explode=[0,0.05,0.05], \n",
    "    cmap='coolwarm',\n",
    "    shadow=True,\n",
    ")\n",
    "ax[0].set_title('Persentase Customer berdasarkan status pernikahan')\n",
    "ax[0].set_ylabel('')\n",
    "\n",
    "# Barchart besaran setiap status pernikahan terhadap setiap kelas target\n",
    "sns.countplot(\n",
    "    x='pernikahan',\n",
    "    hue='berlangganan_deposito',\n",
    "    data=bank_df\n",
    ")\n",
    "ax[1].set_title('Jumlah status pernikahan terhadap berlangganan deposito')\n",
    "ax[1].set_ylabel('Jumlah')\n",
    "ax[1].set_xlabel('Status Pernikahan')\n",
    "ax[1].legend(title='Deposit')"
   ]
  },
  {
   "cell_type": "markdown",
   "id": "c50b5199",
   "metadata": {},
   "source": [
    "Data didominasi oleh status pernikahan \"married\". Status pernikahan ini memberikan jumlah berlangganan deposit untuk kelas 'No' dan 'Yes' tertinggi dibanding 2 status pernikahan lainnya."
   ]
  },
  {
   "cell_type": "markdown",
   "id": "858d76ec",
   "metadata": {},
   "source": [
    "### Preprocessing Datasets sebelum Modelling\n",
    "#### Encoding Variabel Kategorik\n",
    "Atribut yang bertipe kategorikan akan dipisahkan menjadi tipe ordinal dan nominal. Tipe ordinal adalah ada tingkatan diantara nilainya, sedangkan pada tipe nominal tidak terdapat tingkatan diantara nilainya dan semua nilai dianggap setara.\n",
    "Berikut ini adalah 12 atribut dengan tipe kategorikal:\n",
    "1. job\n",
    "    (\"admin.\",\"blue-collar\",\"entrepreneur\",\"housemaid\",\"management\",\"retired\",\"self-employed\",\"services\",\"student\",\"technician\",\"unemployed\",\"unknown\")\n",
    "2. marital\n",
    "    (\"divorced\",\"married\",\"single\",\"unknown\")\n",
    "    note: \"divorced\" means divorced or widowed\n",
    "3. education\n",
    "    (\"basic.4y\",\"basic.6y\",\"basic.9y\",\"high.school\",\"illiterate\",\"professional.course\",\"university.degree\",\"unknown\")\n",
    "4. default\n",
    "    (\"no\",\"yes\",\"unknown\")\n",
    "5. housing\n",
    "    (\"no\",\"yes\",\"unknown\")\n",
    "6. loan\n",
    "    (\"no\",\"yes\",\"unknown\")\n",
    "7. contact\n",
    "    (\"cellular\",\"telephone\")\n",
    "8. month\n",
    "    (\"jan\", \"feb\", \"mar\", ..., \"nov\", \"dec\")\n",
    "9. day_of_week\n",
    "    (\"mon\",\"tue\",\"wed\",\"thu\",\"fri\")\n",
    "10. poutcome\n",
    "    (\"failure\",\"nonexistent\",\"success\")\n",
    "11. y (target)\n",
    "    (\"yes\",\"no\")\n",
    "Dari sini akan dibagi menjadi:\n",
    "Nominal Atribut : (job, education, contact, month, day_of_week, poutcome)\n",
    "Ordinal Atribut : (marital, default, housing, loan, y)\n",
    "\n",
    "Atribut bertipe nominal akan dilakukan one-hot encoding, sedangkan atribut bertipe ordinal akan dilakukan label encoding"
   ]
  },
  {
   "cell_type": "markdown",
   "id": "a081b595",
   "metadata": {},
   "source": [
    "#### Mengelompokkan atribut berdasarkan tipe datanya"
   ]
  },
  {
   "cell_type": "code",
   "execution_count": 31,
   "id": "242267b1",
   "metadata": {},
   "outputs": [],
   "source": [
    "numerical_columns = list(bank_df.select_dtypes(include=['int64']).columns.values) + list(bank_df.select_dtypes(include=['float64']).columns.values)\n",
    "categorical_columns = list(bank_df.select_dtypes(include=['object']))"
   ]
  },
  {
   "cell_type": "code",
   "execution_count": 32,
   "id": "8bd83771",
   "metadata": {},
   "outputs": [],
   "source": [
    "# memilih atribut nominal dari atribut kategori\n",
    "nominal_columns = ['pekerjaan', 'pendidikan', 'alat_komunikasi', 'kontak_terakhir_bulan', 'kontak_terakhir_hari', 'luaran_marketing_sebelumnya']\n",
    "ordinal_columns = [col for col in categorical_columns if col not in nominal_columns]"
   ]
  },
  {
   "cell_type": "markdown",
   "id": "1e08ef9c",
   "metadata": {},
   "source": [
    "#### One Hot Encoding untuk Nominal Atribut"
   ]
  },
  {
   "cell_type": "code",
   "execution_count": 33,
   "id": "869f2728",
   "metadata": {},
   "outputs": [],
   "source": [
    "# one hot encoding pada data untuk nominal columns\n",
    "ohe_bank_df = pd.get_dummies(bank_df[nominal_columns], columns=nominal_columns, prefix=nominal_columns)"
   ]
  },
  {
   "cell_type": "markdown",
   "id": "ef9b95fa",
   "metadata": {},
   "source": [
    "#### Label Enconding untuk ordinal atribut"
   ]
  },
  {
   "cell_type": "code",
   "execution_count": 34,
   "id": "b21501b6",
   "metadata": {},
   "outputs": [],
   "source": [
    "le_bank_df = bank_df.loc[:,ordinal_columns]\n",
    "# instansiasi kelas LabelEncoder\n",
    "encoder = LabelEncoder()"
   ]
  },
  {
   "cell_type": "code",
   "execution_count": 35,
   "id": "8739f035",
   "metadata": {},
   "outputs": [],
   "source": [
    "# label encoding\n",
    "for ord_col in ordinal_columns:\n",
    "    le_bank_df[ord_col] = encoder.fit_transform(le_bank_df[ord_col])"
   ]
  },
  {
   "cell_type": "markdown",
   "id": "563af3df",
   "metadata": {},
   "source": [
    "#### Concatination data hasil one hot encoding dan label encoding menjadi 1 dataframe"
   ]
  },
  {
   "cell_type": "code",
   "execution_count": 36,
   "id": "cb67c1bd",
   "metadata": {},
   "outputs": [],
   "source": [
    "bank_df_categorical_encoded = pd.concat([ohe_bank_df,le_bank_df],axis=1)"
   ]
  },
  {
   "cell_type": "markdown",
   "id": "cc1483c7",
   "metadata": {},
   "source": [
    "#### Menampilkan 5 data teratas hasil encoding"
   ]
  },
  {
   "cell_type": "code",
   "execution_count": 37,
   "id": "34fdf795",
   "metadata": {},
   "outputs": [
    {
     "data": {
      "text/html": [
       "<div>\n",
       "<style scoped>\n",
       "    .dataframe tbody tr th:only-of-type {\n",
       "        vertical-align: middle;\n",
       "    }\n",
       "\n",
       "    .dataframe tbody tr th {\n",
       "        vertical-align: top;\n",
       "    }\n",
       "\n",
       "    .dataframe thead th {\n",
       "        text-align: right;\n",
       "    }\n",
       "</style>\n",
       "<table border=\"1\" class=\"dataframe\">\n",
       "  <thead>\n",
       "    <tr style=\"text-align: right;\">\n",
       "      <th></th>\n",
       "      <th>pekerjaan_admin.</th>\n",
       "      <th>pekerjaan_blue-collar</th>\n",
       "      <th>pekerjaan_entrepreneur</th>\n",
       "      <th>pekerjaan_housemaid</th>\n",
       "      <th>pekerjaan_management</th>\n",
       "      <th>pekerjaan_retired</th>\n",
       "      <th>pekerjaan_self-employed</th>\n",
       "      <th>pekerjaan_services</th>\n",
       "      <th>pekerjaan_student</th>\n",
       "      <th>pekerjaan_technician</th>\n",
       "      <th>...</th>\n",
       "      <th>kontak_terakhir_hari_tue</th>\n",
       "      <th>kontak_terakhir_hari_wed</th>\n",
       "      <th>luaran_marketing_sebelumnya_failure</th>\n",
       "      <th>luaran_marketing_sebelumnya_nonexistent</th>\n",
       "      <th>luaran_marketing_sebelumnya_success</th>\n",
       "      <th>pernikahan</th>\n",
       "      <th>kredit_default</th>\n",
       "      <th>pinjaman_rumah</th>\n",
       "      <th>pinjaman_pribadi</th>\n",
       "      <th>berlangganan_deposito</th>\n",
       "    </tr>\n",
       "  </thead>\n",
       "  <tbody>\n",
       "    <tr>\n",
       "      <th>0</th>\n",
       "      <td>0</td>\n",
       "      <td>0</td>\n",
       "      <td>0</td>\n",
       "      <td>1</td>\n",
       "      <td>0</td>\n",
       "      <td>0</td>\n",
       "      <td>0</td>\n",
       "      <td>0</td>\n",
       "      <td>0</td>\n",
       "      <td>0</td>\n",
       "      <td>...</td>\n",
       "      <td>0</td>\n",
       "      <td>0</td>\n",
       "      <td>0</td>\n",
       "      <td>1</td>\n",
       "      <td>0</td>\n",
       "      <td>1</td>\n",
       "      <td>0</td>\n",
       "      <td>0</td>\n",
       "      <td>0</td>\n",
       "      <td>0</td>\n",
       "    </tr>\n",
       "    <tr>\n",
       "      <th>1</th>\n",
       "      <td>0</td>\n",
       "      <td>0</td>\n",
       "      <td>0</td>\n",
       "      <td>0</td>\n",
       "      <td>0</td>\n",
       "      <td>0</td>\n",
       "      <td>0</td>\n",
       "      <td>1</td>\n",
       "      <td>0</td>\n",
       "      <td>0</td>\n",
       "      <td>...</td>\n",
       "      <td>0</td>\n",
       "      <td>0</td>\n",
       "      <td>0</td>\n",
       "      <td>1</td>\n",
       "      <td>0</td>\n",
       "      <td>1</td>\n",
       "      <td>0</td>\n",
       "      <td>0</td>\n",
       "      <td>0</td>\n",
       "      <td>0</td>\n",
       "    </tr>\n",
       "    <tr>\n",
       "      <th>2</th>\n",
       "      <td>0</td>\n",
       "      <td>0</td>\n",
       "      <td>0</td>\n",
       "      <td>0</td>\n",
       "      <td>0</td>\n",
       "      <td>0</td>\n",
       "      <td>0</td>\n",
       "      <td>1</td>\n",
       "      <td>0</td>\n",
       "      <td>0</td>\n",
       "      <td>...</td>\n",
       "      <td>0</td>\n",
       "      <td>0</td>\n",
       "      <td>0</td>\n",
       "      <td>1</td>\n",
       "      <td>0</td>\n",
       "      <td>1</td>\n",
       "      <td>0</td>\n",
       "      <td>1</td>\n",
       "      <td>0</td>\n",
       "      <td>0</td>\n",
       "    </tr>\n",
       "    <tr>\n",
       "      <th>3</th>\n",
       "      <td>1</td>\n",
       "      <td>0</td>\n",
       "      <td>0</td>\n",
       "      <td>0</td>\n",
       "      <td>0</td>\n",
       "      <td>0</td>\n",
       "      <td>0</td>\n",
       "      <td>0</td>\n",
       "      <td>0</td>\n",
       "      <td>0</td>\n",
       "      <td>...</td>\n",
       "      <td>0</td>\n",
       "      <td>0</td>\n",
       "      <td>0</td>\n",
       "      <td>1</td>\n",
       "      <td>0</td>\n",
       "      <td>1</td>\n",
       "      <td>0</td>\n",
       "      <td>0</td>\n",
       "      <td>0</td>\n",
       "      <td>0</td>\n",
       "    </tr>\n",
       "    <tr>\n",
       "      <th>4</th>\n",
       "      <td>0</td>\n",
       "      <td>0</td>\n",
       "      <td>0</td>\n",
       "      <td>0</td>\n",
       "      <td>0</td>\n",
       "      <td>0</td>\n",
       "      <td>0</td>\n",
       "      <td>1</td>\n",
       "      <td>0</td>\n",
       "      <td>0</td>\n",
       "      <td>...</td>\n",
       "      <td>0</td>\n",
       "      <td>0</td>\n",
       "      <td>0</td>\n",
       "      <td>1</td>\n",
       "      <td>0</td>\n",
       "      <td>1</td>\n",
       "      <td>0</td>\n",
       "      <td>0</td>\n",
       "      <td>1</td>\n",
       "      <td>0</td>\n",
       "    </tr>\n",
       "  </tbody>\n",
       "</table>\n",
       "<p>5 rows × 43 columns</p>\n",
       "</div>"
      ],
      "text/plain": [
       "   pekerjaan_admin.  pekerjaan_blue-collar  pekerjaan_entrepreneur  \\\n",
       "0                 0                      0                       0   \n",
       "1                 0                      0                       0   \n",
       "2                 0                      0                       0   \n",
       "3                 1                      0                       0   \n",
       "4                 0                      0                       0   \n",
       "\n",
       "   pekerjaan_housemaid  pekerjaan_management  pekerjaan_retired  \\\n",
       "0                    1                     0                  0   \n",
       "1                    0                     0                  0   \n",
       "2                    0                     0                  0   \n",
       "3                    0                     0                  0   \n",
       "4                    0                     0                  0   \n",
       "\n",
       "   pekerjaan_self-employed  pekerjaan_services  pekerjaan_student  \\\n",
       "0                        0                   0                  0   \n",
       "1                        0                   1                  0   \n",
       "2                        0                   1                  0   \n",
       "3                        0                   0                  0   \n",
       "4                        0                   1                  0   \n",
       "\n",
       "   pekerjaan_technician  ...  kontak_terakhir_hari_tue  \\\n",
       "0                     0  ...                         0   \n",
       "1                     0  ...                         0   \n",
       "2                     0  ...                         0   \n",
       "3                     0  ...                         0   \n",
       "4                     0  ...                         0   \n",
       "\n",
       "   kontak_terakhir_hari_wed  luaran_marketing_sebelumnya_failure  \\\n",
       "0                         0                                    0   \n",
       "1                         0                                    0   \n",
       "2                         0                                    0   \n",
       "3                         0                                    0   \n",
       "4                         0                                    0   \n",
       "\n",
       "   luaran_marketing_sebelumnya_nonexistent  \\\n",
       "0                                        1   \n",
       "1                                        1   \n",
       "2                                        1   \n",
       "3                                        1   \n",
       "4                                        1   \n",
       "\n",
       "   luaran_marketing_sebelumnya_success  pernikahan  kredit_default  \\\n",
       "0                                    0           1               0   \n",
       "1                                    0           1               0   \n",
       "2                                    0           1               0   \n",
       "3                                    0           1               0   \n",
       "4                                    0           1               0   \n",
       "\n",
       "   pinjaman_rumah  pinjaman_pribadi  berlangganan_deposito  \n",
       "0               0                 0                      0  \n",
       "1               0                 0                      0  \n",
       "2               1                 0                      0  \n",
       "3               0                 0                      0  \n",
       "4               0                 1                      0  \n",
       "\n",
       "[5 rows x 43 columns]"
      ]
     },
     "execution_count": 37,
     "metadata": {},
     "output_type": "execute_result"
    }
   ],
   "source": [
    "# 5 data teratas \n",
    "bank_df_categorical_encoded.head()"
   ]
  },
  {
   "cell_type": "markdown",
   "id": "b41684d0",
   "metadata": {},
   "source": [
    "### Mengukur pengaruh atribut pada kelas target\n",
    "#### Pengaruh atribut kategorikal pada kelas target\n",
    "Pengaruh atribut/fitur bertipe kategorikal dapat diukur dengan Chi-Squared\n"
   ]
  },
  {
   "cell_type": "code",
   "execution_count": 38,
   "id": "a87ae6fd",
   "metadata": {},
   "outputs": [],
   "source": [
    "# mendapatkan daftar kolom baru hasil encoding\n",
    "ec_categorical_columns = list(bank_df_categorical_encoded.columns)\n",
    "ec_categorical_columns.remove('berlangganan_deposito')\n",
    "\n",
    "# Menyiapkan atribute dan target\n",
    "X_categorical = bank_df_categorical_encoded.drop('berlangganan_deposito',axis=1)\n",
    "y_categorical = bank_df_categorical_encoded['berlangganan_deposito']"
   ]
  },
  {
   "cell_type": "code",
   "execution_count": 39,
   "id": "52466436",
   "metadata": {},
   "outputs": [],
   "source": [
    "# instansiasi kelas untuk Chi-Squared\n",
    "chi_square_fs = SelectKBest(score_func=chi2,k='all')\n",
    "\n",
    "# fit chi-square into data\n",
    "X_categorical_selected = chi_square_fs.fit_transform(X_categorical,y_categorical)"
   ]
  },
  {
   "cell_type": "code",
   "execution_count": 40,
   "id": "ece0b196",
   "metadata": {},
   "outputs": [
    {
     "data": {
      "image/png": "[encoded data removed]",
      "text/plain": [
       "<Figure size 864x720 with 1 Axes>"
      ]
     },
     "metadata": {
      "needs_background": "light"
     },
     "output_type": "display_data"
    }
   ],
   "source": [
    "# Plotting score setiap atribut kategorikal\n",
    "plt.figure(figsize=(12,10))\n",
    "plt.barh([cat_col for cat_col in ec_categorical_columns], chi_square_fs.scores_)\n",
    "plt.ylabel('Daftar Atribut Kategorikal', fontsize=12)\n",
    "plt.xlabel('Nilai Chi-Squared Feature Importance', fontsize=12)\n",
    "plt.title('Grafik batang atribut (x) vs The Chi-Squared Feature Importance (y)',fontsize=12)\n",
    "plt.show()"
   ]
  },
  {
   "cell_type": "markdown",
   "id": "bed84e72",
   "metadata": {},
   "source": [
    "Atribut luaran_marketing_sebelumnya_success menjadi atribut kategorikal yang memberikan kepentingan atribut tertinggi dibandingkan dengan yang lainnya. Bahkan rentang nilainya cukup jauh dibandingkan dengan atribut yang lainnya."
   ]
  },
  {
   "cell_type": "markdown",
   "id": "af54f440",
   "metadata": {},
   "source": [
    "#### Pengaruh atribut numerikal pada kelas target\n",
    "Kepentingan atribut numerik terhadap label kelas kategorikal bisa diukur dengan ANOVA F-score"
   ]
  },
  {
   "cell_type": "code",
   "execution_count": 41,
   "id": "5ee95d67",
   "metadata": {},
   "outputs": [],
   "source": [
    "# menyiapkan atribut dan target\n",
    "X_numerical = bank_df[numerical_columns].copy(deep=True)\n",
    "y_numerical = y_categorical.copy(deep=True)"
   ]
  },
  {
   "cell_type": "code",
   "execution_count": 42,
   "id": "2f13f529",
   "metadata": {},
   "outputs": [],
   "source": [
    "# instansiasi kelas anova\n",
    "anova_fs = SelectKBest(score_func=f_classif,k='all')\n",
    "\n",
    "# fit into data\n",
    "X_numerical_selected = anova_fs.fit_transform(X_numerical,y_numerical)"
   ]
  },
  {
   "cell_type": "code",
   "execution_count": 43,
   "id": "84da3df6",
   "metadata": {},
   "outputs": [
    {
     "data": {
      "image/png": "[encoded data removed]",
      "text/plain": [
       "<Figure size 864x720 with 1 Axes>"
      ]
     },
     "metadata": {
      "needs_background": "light"
     },
     "output_type": "display_data"
    }
   ],
   "source": [
    "# Plotting score setiap atribut kategorikal\n",
    "plt.figure(figsize=(12,10))\n",
    "plt.barh([num_col for num_col in list(X_numerical.columns)], anova_fs.scores_)\n",
    "plt.ylabel('Daftar Atribut Numerikal', fontsize=12)\n",
    "plt.xlabel('Nilai ANOVA F-measure Feature Importance', fontsize=12)\n",
    "plt.title('Grafik batang atribut (x) vs The ANOVA F-measure Feature Importance (y)',fontsize=12)\n",
    "plt.show()"
   ]
  },
  {
   "cell_type": "markdown",
   "id": "5e85b7be",
   "metadata": {},
   "source": [
    "Atribut kontak_terakhir_berdurasi memiliki kepentingan atribut yang paling tinggi dibandingkan atribut numerikal lainnya. Hal ini masuk akal karena keberhasilan customer berlangganan deposito ditentukan berapa lama durasi pemasaran/kampanye yang dilakukan pihak bank melalui telepon"
   ]
  },
  {
   "cell_type": "markdown",
   "id": "c7ca147b",
   "metadata": {},
   "source": [
    "#### Menyatukan data bertipe numerikal dan data bertipe kategorikal hasil encoding"
   ]
  },
  {
   "cell_type": "code",
   "execution_count": 44,
   "id": "a5a120c8",
   "metadata": {},
   "outputs": [],
   "source": [
    "bank_df = pd.concat([bank_df[numerical_columns],bank_df_categorical_encoded],axis=1)"
   ]
  },
  {
   "cell_type": "markdown",
   "id": "f4b3849e",
   "metadata": {},
   "source": [
    "#### Pembagian dataset ke dalam data latih dan data uji\n",
    "Dataset akan dibagi ke dalam 80% data latih dan 20% data uji.\n",
    "1. Data latih akan digunakan untuk proses tuning parameter dan hyperparameter serta melakukan feature selection\n",
    "2. Data latih akan digunakan untuk melatih model setelah mendapatkan hyperparameter terbaik dengan fitur terbaik hasil seleksi\n",
    "3. Data uji digunakan untuk menguji performa model klasifikasi yang sudah dilatih"
   ]
  },
  {
   "cell_type": "markdown",
   "id": "ac0db49e",
   "metadata": {},
   "source": [
    "#### Pisahkan attributes sebagai X dan target sebagai y"
   ]
  },
  {
   "cell_type": "code",
   "execution_count": 45,
   "id": "09cc9888",
   "metadata": {},
   "outputs": [],
   "source": [
    "X = bank_df.drop('berlangganan_deposito',axis=1)\n",
    "y = bank_df['berlangganan_deposito']"
   ]
  },
  {
   "cell_type": "markdown",
   "id": "eaff73e8",
   "metadata": {},
   "source": [
    "#### Train test split (80 train : 20 test)"
   ]
  },
  {
   "cell_type": "code",
   "execution_count": 46,
   "id": "be7af564",
   "metadata": {},
   "outputs": [],
   "source": [
    "X_train,X_test,y_train,y_test = train_test_split(X,y,test_size=0.2,random_state=42)"
   ]
  },
  {
   "cell_type": "markdown",
   "id": "029816c8",
   "metadata": {},
   "source": [
    "#### Mengetahui dimensi data train dan data test"
   ]
  },
  {
   "cell_type": "code",
   "execution_count": 47,
   "id": "8f43d803",
   "metadata": {},
   "outputs": [
    {
     "name": "stdout",
     "output_type": "stream",
     "text": [
      "Dimensi atribut data latih =  (32950, 52)\n",
      "Dimensi target data latih =  (32950,)\n",
      "Dimensi atribut data uji =  (8238, 52)\n",
      "Dimensi target data uji =  (8238,)\n"
     ]
    }
   ],
   "source": [
    "print(\"Dimensi atribut data latih = \", X_train.shape)\n",
    "print(\"Dimensi target data latih = \", y_train.shape)\n",
    "print(\"Dimensi atribut data uji = \", X_test.shape)\n",
    "print(\"Dimensi target data uji = \", y_test.shape)"
   ]
  },
  {
   "cell_type": "markdown",
   "id": "5b85aa86",
   "metadata": {},
   "source": [
    "### Normalisasi Data\n",
    "Metode Normalisasi z-score digunakan untuk menyamakan skala dari setiap atribut pada data ke standard normal distribution (mean=0, std=1)"
   ]
  },
  {
   "cell_type": "code",
   "execution_count": 48,
   "id": "56cb5e3d",
   "metadata": {},
   "outputs": [],
   "source": [
    "# instansiasi kelas StandardScaler\n",
    "standard_scaler = StandardScaler()\n",
    "\n",
    "# fit scaler into train data\n",
    "standard_scaler.fit(X_train)\n",
    "\n",
    "# transform data with scaler\n",
    "X_train = standard_scaler.transform(X_train)\n",
    "X_test = standard_scaler.transform(X_test)"
   ]
  },
  {
   "cell_type": "markdown",
   "id": "8ed75d4a",
   "metadata": {},
   "source": [
    "### Dimensionality Reduction\n",
    "Jumlah dimensi akan dikurangi dengan PCA"
   ]
  },
  {
   "cell_type": "markdown",
   "id": "0abd3b26",
   "metadata": {},
   "source": [
    "#### Menerapkan PCA pada data latih"
   ]
  },
  {
   "cell_type": "code",
   "execution_count": 49,
   "id": "bf6c4641",
   "metadata": {},
   "outputs": [
    {
     "name": "stdout",
     "output_type": "stream",
     "text": [
      "Nilai Eigen setiap Principal Component\n",
      "[5.10895472e+00 2.73036870e+00 2.31634593e+00 2.10655934e+00\n",
      " 2.00419634e+00 1.79099640e+00 1.72717132e+00 1.65495244e+00\n",
      " 1.49945474e+00 1.46778074e+00 1.27154651e+00 1.26981328e+00\n",
      " 1.25246035e+00 1.22137440e+00 1.19699440e+00 1.14872904e+00\n",
      " 1.13419904e+00 1.10505081e+00 1.06923547e+00 1.05409598e+00\n",
      " 1.04391627e+00 1.03824430e+00 1.03138828e+00 1.02267454e+00\n",
      " 1.01146984e+00 1.00372467e+00 9.91652715e-01 9.86685340e-01\n",
      " 9.76632416e-01 9.49898910e-01 9.41751024e-01 8.81241091e-01\n",
      " 8.58688378e-01 7.93596086e-01 7.38968053e-01 7.13063877e-01\n",
      " 6.11181454e-01 4.47409332e-01 4.36431294e-01 4.26761863e-01\n",
      " 2.85931685e-01 2.43253460e-01 1.83000765e-01 1.44292935e-01\n",
      " 6.69557982e-02 4.24838651e-02 1.00756366e-30 1.35517905e-31\n",
      " 8.95496306e-32 7.24478898e-32 5.59548363e-32 4.45627097e-32]\n",
      "==============================\n",
      "Rasio Nilai Eigen setiap Principal Component\n",
      "[9.82461475e-02 5.25054969e-02 4.45437622e-02 4.05095270e-02\n",
      " 3.85410675e-02 3.44411931e-02 3.32138251e-02 3.18250426e-02\n",
      " 2.88347929e-02 2.82256960e-02 2.44520754e-02 2.44187450e-02\n",
      " 2.40850450e-02 2.34872565e-02 2.30184244e-02 2.20902726e-02\n",
      " 2.18108581e-02 2.12503322e-02 2.05615966e-02 2.02704613e-02\n",
      " 2.00747036e-02 1.99656305e-02 1.98337880e-02 1.96662213e-02\n",
      " 1.94507527e-02 1.93018117e-02 1.90696658e-02 1.89741422e-02\n",
      " 1.87808226e-02 1.82667323e-02 1.81100470e-02 1.69464297e-02\n",
      " 1.65127369e-02 1.52610000e-02 1.42104928e-02 1.37123507e-02\n",
      " 1.17531328e-02 8.60376448e-03 8.39265479e-03 8.20670984e-03\n",
      " 5.49851936e-03 4.67780918e-03 3.51913868e-03 2.77477991e-03\n",
      " 1.28757243e-03 8.16972610e-04 1.93756362e-32 2.60603446e-33\n",
      " 1.72205602e-33 1.39318637e-33 1.07602189e-33 8.56949178e-34]\n",
      "==============================\n"
     ]
    }
   ],
   "source": [
    "# instansiasi objek PCA\n",
    "pca_ = PCA()\n",
    "\n",
    "# fit into training data\n",
    "pca_.fit(X_train)\n",
    "\n",
    "# mencetak nilai eigen setiap principal component\n",
    "print('Nilai Eigen setiap Principal Component')\n",
    "print(pca_.explained_variance_)\n",
    "print(\"=\"*30)\n",
    "\n",
    "# mencetak ratio masing-masing nilai eigen terhadap keseluruhan\n",
    "print('Rasio Nilai Eigen setiap Principal Component')\n",
    "print(pca_.explained_variance_ratio_)\n",
    "print(\"=\"*30)"
   ]
  },
  {
   "cell_type": "markdown",
   "id": "6cadee2d",
   "metadata": {},
   "source": [
    "#### Plotting Ratio Nilai Eigen yang dihasilkan PCA terhadap data latih"
   ]
  },
  {
   "cell_type": "code",
   "execution_count": 50,
   "id": "2c1c5402",
   "metadata": {},
   "outputs": [],
   "source": [
    "# membuat dataframe untuk memplotting variance ratio yang dihasilkan PCA\n",
    "pca_variance = pd.DataFrame(data=pca_.explained_variance_ratio_,columns=['PC Variance'])\n",
    "pca_variance['pc_name'] = pd.Series(data=['PC-'+str(i+1) for i in range(0,X_train.shape[1])])\n",
    "pca_variance = pca_variance.sort_values(by='PC Variance')"
   ]
  },
  {
   "cell_type": "code",
   "execution_count": 51,
   "id": "39b1fbaf",
   "metadata": {},
   "outputs": [
    {
     "data": {
      "image/png": "[encoded data removed]",
      "text/plain": [
       "<Figure size 864x1008 with 1 Axes>"
      ]
     },
     "metadata": {
      "needs_background": "light"
     },
     "output_type": "display_data"
    }
   ],
   "source": [
    "plt.figure(figsize=(12,14))\n",
    "pca_variance['PC Variance'].plot(kind='barh')\n",
    "plt.yticks(ticks=range(0,X_train.shape[1]), labels=pca_variance['pc_name'])\n",
    "plt.title('Rasio Variance yang dihasilkan setiap Principal Component')\n",
    "plt.xlabel('Rasio Variance')\n",
    "plt.ylabel('Principal Component')\n",
    "plt.show()"
   ]
  },
  {
   "cell_type": "markdown",
   "id": "2e69725b",
   "metadata": {},
   "source": [
    "### Mencari jumlah principal component terbaik\n",
    "Ada beberapa metode untuk menentukan jumlah principal component terbaik yang harus digunakan. Salah satu sumber menyebutkan:\n",
    "1. Jumlah PC terbaik yang terpilih adalah PC yang menghasilkan nilai eigen lebih besar atau sama dengan 1"
   ]
  },
  {
   "cell_type": "code",
   "execution_count": 52,
   "id": "a26570c1",
   "metadata": {},
   "outputs": [],
   "source": [
    "# Mencari jumlah n_component yang menghasilkan nilai eigen value >= 1\n",
    "def find_best_n_components(pca):\n",
    "    \"\"\"\n",
    "        Deskripsi Fungsi:\n",
    "        - Fungsi untuk mencari jumlah principal component terbaik dari hasil PCA pada data latih \n",
    "        dengan syarat nilai eigen PC >= 1\n",
    "        \n",
    "        Parameter Fungsi:\n",
    "        -pca : model pca yang sudah difitting pada data latih\n",
    "        \n",
    "        Return Fungsi:\n",
    "        -n_best_component: jumlah principal component terbaik yang memenuhi syarat\n",
    "        \n",
    "    \"\"\"\n",
    "    \n",
    "    n_best_component = 0\n",
    "    for i in range(0,len(pca.explained_variance_)):\n",
    "        if pca.explained_variance_[i]>=1:\n",
    "            n_best_component+=1\n",
    "    \n",
    "    return n_best_component"
   ]
  },
  {
   "cell_type": "code",
   "execution_count": 53,
   "id": "35d9c18e",
   "metadata": {},
   "outputs": [
    {
     "name": "stdout",
     "output_type": "stream",
     "text": [
      "Jumlah n Principal Component terbaik = 26 komponen\n",
      "Informasi yang dijelaskan oleh 26 komponen = 77.46245258724744 %\n",
      "Kehilangan Informasi = 22.53754741275256 %\n"
     ]
    }
   ],
   "source": [
    "# mencari jumlah principal component terbaik\n",
    "n_components = find_best_n_components(pca_)\n",
    "print('Jumlah n Principal Component terbaik = {} komponen'.format(n_components))\n",
    "print('Informasi yang dijelaskan oleh {} komponen = {} %'.format(n_components,(np.sum(pca_.explained_variance_ratio_[:n_components]))*100))\n",
    "print('Kehilangan Informasi = {} %'.format(100-(np.sum(pca_.explained_variance_ratio_[:n_components]))*100))"
   ]
  },
  {
   "cell_type": "markdown",
   "id": "48cf7d12",
   "metadata": {},
   "source": [
    "### Instansiasi PCA dengan n component terbaik\n",
    "1. Buat PCA dengan n component terbaik\n",
    "2. Fitting ke data latih\n",
    "3. Transform ke atribut data latih dan data uj"
   ]
  },
  {
   "cell_type": "code",
   "execution_count": 54,
   "id": "a0242dad",
   "metadata": {},
   "outputs": [],
   "source": [
    "# instansiasi objek PCA\n",
    "pca_ = PCA(n_components=n_components)\n",
    "\n",
    "# fit into training data\n",
    "pca_.fit(X_train)\n",
    "\n",
    "# transform into train and test data\n",
    "X_train_pca = pca_.transform(X_train)\n",
    "X_test_pca = pca_.transform(X_test)"
   ]
  },
  {
   "cell_type": "markdown",
   "id": "0ea4ad4d",
   "metadata": {},
   "source": [
    "#### Buat DataFrame hasil perhitungan PCA"
   ]
  },
  {
   "cell_type": "code",
   "execution_count": 55,
   "id": "2bd450a3",
   "metadata": {},
   "outputs": [],
   "source": [
    "# buat dataframe untuk mempermudah melihat data hasil PCA\n",
    "train_pca_df = pd.DataFrame(data=X_train_pca,columns=['PC-'+str(i) for i in range(0,n_components)])\n",
    "train_pca_df['target'] = y_train.to_numpy()\n",
    "\n",
    "test_pca_df = pd.DataFrame(data=X_test_pca,columns=['PC-'+str(i) for i in range(0,n_components)])\n",
    "test_pca_df['target'] = y_test.to_numpy()"
   ]
  },
  {
   "cell_type": "markdown",
   "id": "9bf93985",
   "metadata": {},
   "source": [
    "### Data yang siap dimodelkan\n",
    "#### Data Latih\n",
    "#### Atribut"
   ]
  },
  {
   "cell_type": "code",
   "execution_count": 56,
   "id": "ec75c425",
   "metadata": {},
   "outputs": [
    {
     "data": {
      "text/html": [
       "<div>\n",
       "<style scoped>\n",
       "    .dataframe tbody tr th:only-of-type {\n",
       "        vertical-align: middle;\n",
       "    }\n",
       "\n",
       "    .dataframe tbody tr th {\n",
       "        vertical-align: top;\n",
       "    }\n",
       "\n",
       "    .dataframe thead th {\n",
       "        text-align: right;\n",
       "    }\n",
       "</style>\n",
       "<table border=\"1\" class=\"dataframe\">\n",
       "  <thead>\n",
       "    <tr style=\"text-align: right;\">\n",
       "      <th></th>\n",
       "      <th>PC-0</th>\n",
       "      <th>PC-1</th>\n",
       "      <th>PC-2</th>\n",
       "      <th>PC-3</th>\n",
       "      <th>PC-4</th>\n",
       "      <th>PC-5</th>\n",
       "      <th>PC-6</th>\n",
       "      <th>PC-7</th>\n",
       "      <th>PC-8</th>\n",
       "      <th>PC-9</th>\n",
       "      <th>...</th>\n",
       "      <th>PC-17</th>\n",
       "      <th>PC-18</th>\n",
       "      <th>PC-19</th>\n",
       "      <th>PC-20</th>\n",
       "      <th>PC-21</th>\n",
       "      <th>PC-22</th>\n",
       "      <th>PC-23</th>\n",
       "      <th>PC-24</th>\n",
       "      <th>PC-25</th>\n",
       "      <th>target</th>\n",
       "    </tr>\n",
       "  </thead>\n",
       "  <tbody>\n",
       "    <tr>\n",
       "      <th>0</th>\n",
       "      <td>-1.511243</td>\n",
       "      <td>1.334518</td>\n",
       "      <td>-1.695662</td>\n",
       "      <td>0.386474</td>\n",
       "      <td>-1.150228</td>\n",
       "      <td>-0.086657</td>\n",
       "      <td>0.782231</td>\n",
       "      <td>-1.614204</td>\n",
       "      <td>0.736784</td>\n",
       "      <td>0.597487</td>\n",
       "      <td>...</td>\n",
       "      <td>-1.031676</td>\n",
       "      <td>-0.755364</td>\n",
       "      <td>0.115514</td>\n",
       "      <td>0.168989</td>\n",
       "      <td>-0.247780</td>\n",
       "      <td>-0.051058</td>\n",
       "      <td>-0.104321</td>\n",
       "      <td>-0.152240</td>\n",
       "      <td>-0.409819</td>\n",
       "      <td>0</td>\n",
       "    </tr>\n",
       "    <tr>\n",
       "      <th>1</th>\n",
       "      <td>1.173158</td>\n",
       "      <td>-0.284931</td>\n",
       "      <td>-0.199017</td>\n",
       "      <td>-1.835808</td>\n",
       "      <td>-0.114181</td>\n",
       "      <td>-1.985372</td>\n",
       "      <td>-1.145680</td>\n",
       "      <td>-0.240566</td>\n",
       "      <td>0.351816</td>\n",
       "      <td>-0.360753</td>\n",
       "      <td>...</td>\n",
       "      <td>-0.407467</td>\n",
       "      <td>-0.208894</td>\n",
       "      <td>-0.018301</td>\n",
       "      <td>-0.404012</td>\n",
       "      <td>-0.698301</td>\n",
       "      <td>0.903253</td>\n",
       "      <td>-0.204881</td>\n",
       "      <td>-0.343336</td>\n",
       "      <td>0.426936</td>\n",
       "      <td>0</td>\n",
       "    </tr>\n",
       "    <tr>\n",
       "      <th>2</th>\n",
       "      <td>3.712698</td>\n",
       "      <td>1.781292</td>\n",
       "      <td>-0.663166</td>\n",
       "      <td>3.433024</td>\n",
       "      <td>-1.017087</td>\n",
       "      <td>-1.091369</td>\n",
       "      <td>0.078038</td>\n",
       "      <td>1.872574</td>\n",
       "      <td>1.027398</td>\n",
       "      <td>-3.014961</td>\n",
       "      <td>...</td>\n",
       "      <td>-1.387912</td>\n",
       "      <td>-1.656747</td>\n",
       "      <td>-0.387680</td>\n",
       "      <td>-1.229422</td>\n",
       "      <td>-0.930071</td>\n",
       "      <td>0.014539</td>\n",
       "      <td>-0.866707</td>\n",
       "      <td>-0.533354</td>\n",
       "      <td>0.605054</td>\n",
       "      <td>0</td>\n",
       "    </tr>\n",
       "    <tr>\n",
       "      <th>3</th>\n",
       "      <td>-1.522565</td>\n",
       "      <td>-0.928769</td>\n",
       "      <td>-1.015817</td>\n",
       "      <td>1.812700</td>\n",
       "      <td>-1.880044</td>\n",
       "      <td>-0.150520</td>\n",
       "      <td>2.122634</td>\n",
       "      <td>-0.142617</td>\n",
       "      <td>-0.068535</td>\n",
       "      <td>-0.544942</td>\n",
       "      <td>...</td>\n",
       "      <td>-1.879334</td>\n",
       "      <td>1.015212</td>\n",
       "      <td>-0.480555</td>\n",
       "      <td>1.151536</td>\n",
       "      <td>0.273106</td>\n",
       "      <td>1.049042</td>\n",
       "      <td>0.171223</td>\n",
       "      <td>0.018309</td>\n",
       "      <td>-0.809682</td>\n",
       "      <td>0</td>\n",
       "    </tr>\n",
       "    <tr>\n",
       "      <th>4</th>\n",
       "      <td>-0.848371</td>\n",
       "      <td>1.547174</td>\n",
       "      <td>0.656675</td>\n",
       "      <td>-1.971561</td>\n",
       "      <td>0.909642</td>\n",
       "      <td>-0.575973</td>\n",
       "      <td>-0.097619</td>\n",
       "      <td>1.042196</td>\n",
       "      <td>-0.858406</td>\n",
       "      <td>0.573198</td>\n",
       "      <td>...</td>\n",
       "      <td>-0.544381</td>\n",
       "      <td>-0.144939</td>\n",
       "      <td>0.191869</td>\n",
       "      <td>-0.490213</td>\n",
       "      <td>-1.031003</td>\n",
       "      <td>0.324272</td>\n",
       "      <td>-0.210001</td>\n",
       "      <td>-0.487958</td>\n",
       "      <td>0.586279</td>\n",
       "      <td>0</td>\n",
       "    </tr>\n",
       "  </tbody>\n",
       "</table>\n",
       "<p>5 rows × 27 columns</p>\n",
       "</div>"
      ],
      "text/plain": [
       "       PC-0      PC-1      PC-2      PC-3      PC-4      PC-5      PC-6  \\\n",
       "0 -1.511243  1.334518 -1.695662  0.386474 -1.150228 -0.086657  0.782231   \n",
       "1  1.173158 -0.284931 -0.199017 -1.835808 -0.114181 -1.985372 -1.145680   \n",
       "2  3.712698  1.781292 -0.663166  3.433024 -1.017087 -1.091369  0.078038   \n",
       "3 -1.522565 -0.928769 -1.015817  1.812700 -1.880044 -0.150520  2.122634   \n",
       "4 -0.848371  1.547174  0.656675 -1.971561  0.909642 -0.575973 -0.097619   \n",
       "\n",
       "       PC-7      PC-8      PC-9  ...     PC-17     PC-18     PC-19     PC-20  \\\n",
       "0 -1.614204  0.736784  0.597487  ... -1.031676 -0.755364  0.115514  0.168989   \n",
       "1 -0.240566  0.351816 -0.360753  ... -0.407467 -0.208894 -0.018301 -0.404012   \n",
       "2  1.872574  1.027398 -3.014961  ... -1.387912 -1.656747 -0.387680 -1.229422   \n",
       "3 -0.142617 -0.068535 -0.544942  ... -1.879334  1.015212 -0.480555  1.151536   \n",
       "4  1.042196 -0.858406  0.573198  ... -0.544381 -0.144939  0.191869 -0.490213   \n",
       "\n",
       "      PC-21     PC-22     PC-23     PC-24     PC-25  target  \n",
       "0 -0.247780 -0.051058 -0.104321 -0.152240 -0.409819       0  \n",
       "1 -0.698301  0.903253 -0.204881 -0.343336  0.426936       0  \n",
       "2 -0.930071  0.014539 -0.866707 -0.533354  0.605054       0  \n",
       "3  0.273106  1.049042  0.171223  0.018309 -0.809682       0  \n",
       "4 -1.031003  0.324272 -0.210001 -0.487958  0.586279       0  \n",
       "\n",
       "[5 rows x 27 columns]"
      ]
     },
     "execution_count": 56,
     "metadata": {},
     "output_type": "execute_result"
    }
   ],
   "source": [
    "train_pca_df.head()"
   ]
  },
  {
   "cell_type": "markdown",
   "id": "f922a5a2",
   "metadata": {},
   "source": [
    "#### Target"
   ]
  },
  {
   "cell_type": "code",
   "execution_count": 57,
   "id": "3f77e9f8",
   "metadata": {},
   "outputs": [
    {
     "data": {
      "text/plain": [
       "12556    0\n",
       "35451    0\n",
       "30592    0\n",
       "17914    0\n",
       "3315     0\n",
       "Name: berlangganan_deposito, dtype: int32"
      ]
     },
     "execution_count": 57,
     "metadata": {},
     "output_type": "execute_result"
    }
   ],
   "source": [
    "y_train.head()"
   ]
  },
  {
   "cell_type": "markdown",
   "id": "c7b25b7a",
   "metadata": {},
   "source": [
    "#### Data Uji\n",
    "#### Atribut"
   ]
  },
  {
   "cell_type": "code",
   "execution_count": 58,
   "id": "a9692610",
   "metadata": {},
   "outputs": [
    {
     "data": {
      "text/html": [
       "<div>\n",
       "<style scoped>\n",
       "    .dataframe tbody tr th:only-of-type {\n",
       "        vertical-align: middle;\n",
       "    }\n",
       "\n",
       "    .dataframe tbody tr th {\n",
       "        vertical-align: top;\n",
       "    }\n",
       "\n",
       "    .dataframe thead th {\n",
       "        text-align: right;\n",
       "    }\n",
       "</style>\n",
       "<table border=\"1\" class=\"dataframe\">\n",
       "  <thead>\n",
       "    <tr style=\"text-align: right;\">\n",
       "      <th></th>\n",
       "      <th>PC-0</th>\n",
       "      <th>PC-1</th>\n",
       "      <th>PC-2</th>\n",
       "      <th>PC-3</th>\n",
       "      <th>PC-4</th>\n",
       "      <th>PC-5</th>\n",
       "      <th>PC-6</th>\n",
       "      <th>PC-7</th>\n",
       "      <th>PC-8</th>\n",
       "      <th>PC-9</th>\n",
       "      <th>...</th>\n",
       "      <th>PC-17</th>\n",
       "      <th>PC-18</th>\n",
       "      <th>PC-19</th>\n",
       "      <th>PC-20</th>\n",
       "      <th>PC-21</th>\n",
       "      <th>PC-22</th>\n",
       "      <th>PC-23</th>\n",
       "      <th>PC-24</th>\n",
       "      <th>PC-25</th>\n",
       "      <th>target</th>\n",
       "    </tr>\n",
       "  </thead>\n",
       "  <tbody>\n",
       "    <tr>\n",
       "      <th>0</th>\n",
       "      <td>3.687434</td>\n",
       "      <td>0.940286</td>\n",
       "      <td>-0.870964</td>\n",
       "      <td>0.018228</td>\n",
       "      <td>-0.092859</td>\n",
       "      <td>1.559247</td>\n",
       "      <td>-0.322654</td>\n",
       "      <td>1.836611</td>\n",
       "      <td>0.609901</td>\n",
       "      <td>-2.733916</td>\n",
       "      <td>...</td>\n",
       "      <td>-0.511207</td>\n",
       "      <td>-0.186755</td>\n",
       "      <td>0.636677</td>\n",
       "      <td>0.099046</td>\n",
       "      <td>-0.794984</td>\n",
       "      <td>-1.274774</td>\n",
       "      <td>0.140583</td>\n",
       "      <td>0.203621</td>\n",
       "      <td>-0.261522</td>\n",
       "      <td>0</td>\n",
       "    </tr>\n",
       "    <tr>\n",
       "      <th>1</th>\n",
       "      <td>-0.786829</td>\n",
       "      <td>0.960236</td>\n",
       "      <td>1.403170</td>\n",
       "      <td>-0.380491</td>\n",
       "      <td>0.994086</td>\n",
       "      <td>-1.851722</td>\n",
       "      <td>-1.113220</td>\n",
       "      <td>-0.076268</td>\n",
       "      <td>-0.136244</td>\n",
       "      <td>-0.240699</td>\n",
       "      <td>...</td>\n",
       "      <td>-0.534478</td>\n",
       "      <td>-0.155995</td>\n",
       "      <td>-0.315237</td>\n",
       "      <td>0.123902</td>\n",
       "      <td>-0.047493</td>\n",
       "      <td>-0.071882</td>\n",
       "      <td>0.012204</td>\n",
       "      <td>-0.086448</td>\n",
       "      <td>0.120499</td>\n",
       "      <td>0</td>\n",
       "    </tr>\n",
       "    <tr>\n",
       "      <th>2</th>\n",
       "      <td>3.405556</td>\n",
       "      <td>2.161418</td>\n",
       "      <td>-2.589540</td>\n",
       "      <td>0.222164</td>\n",
       "      <td>-0.101115</td>\n",
       "      <td>0.981285</td>\n",
       "      <td>-0.004554</td>\n",
       "      <td>-1.625647</td>\n",
       "      <td>-1.068226</td>\n",
       "      <td>-2.849511</td>\n",
       "      <td>...</td>\n",
       "      <td>-0.857847</td>\n",
       "      <td>-0.056762</td>\n",
       "      <td>0.017399</td>\n",
       "      <td>-0.193334</td>\n",
       "      <td>-0.868726</td>\n",
       "      <td>0.505708</td>\n",
       "      <td>-0.600392</td>\n",
       "      <td>-0.297386</td>\n",
       "      <td>0.364824</td>\n",
       "      <td>0</td>\n",
       "    </tr>\n",
       "    <tr>\n",
       "      <th>3</th>\n",
       "      <td>-2.284208</td>\n",
       "      <td>1.232688</td>\n",
       "      <td>0.722414</td>\n",
       "      <td>-1.348090</td>\n",
       "      <td>1.579113</td>\n",
       "      <td>-0.240528</td>\n",
       "      <td>1.246281</td>\n",
       "      <td>1.042619</td>\n",
       "      <td>1.559450</td>\n",
       "      <td>-0.374476</td>\n",
       "      <td>...</td>\n",
       "      <td>0.382775</td>\n",
       "      <td>0.180908</td>\n",
       "      <td>0.422959</td>\n",
       "      <td>-0.277936</td>\n",
       "      <td>-0.866046</td>\n",
       "      <td>0.047766</td>\n",
       "      <td>0.005027</td>\n",
       "      <td>-0.436923</td>\n",
       "      <td>0.601732</td>\n",
       "      <td>0</td>\n",
       "    </tr>\n",
       "    <tr>\n",
       "      <th>4</th>\n",
       "      <td>-1.238641</td>\n",
       "      <td>-1.168388</td>\n",
       "      <td>-0.758453</td>\n",
       "      <td>-0.392961</td>\n",
       "      <td>-1.240477</td>\n",
       "      <td>0.170709</td>\n",
       "      <td>2.349604</td>\n",
       "      <td>1.277585</td>\n",
       "      <td>0.126217</td>\n",
       "      <td>-0.238558</td>\n",
       "      <td>...</td>\n",
       "      <td>-1.274111</td>\n",
       "      <td>0.733258</td>\n",
       "      <td>0.095008</td>\n",
       "      <td>0.738988</td>\n",
       "      <td>-0.351308</td>\n",
       "      <td>1.051245</td>\n",
       "      <td>0.688890</td>\n",
       "      <td>0.310848</td>\n",
       "      <td>-0.674161</td>\n",
       "      <td>0</td>\n",
       "    </tr>\n",
       "  </tbody>\n",
       "</table>\n",
       "<p>5 rows × 27 columns</p>\n",
       "</div>"
      ],
      "text/plain": [
       "       PC-0      PC-1      PC-2      PC-3      PC-4      PC-5      PC-6  \\\n",
       "0  3.687434  0.940286 -0.870964  0.018228 -0.092859  1.559247 -0.322654   \n",
       "1 -0.786829  0.960236  1.403170 -0.380491  0.994086 -1.851722 -1.113220   \n",
       "2  3.405556  2.161418 -2.589540  0.222164 -0.101115  0.981285 -0.004554   \n",
       "3 -2.284208  1.232688  0.722414 -1.348090  1.579113 -0.240528  1.246281   \n",
       "4 -1.238641 -1.168388 -0.758453 -0.392961 -1.240477  0.170709  2.349604   \n",
       "\n",
       "       PC-7      PC-8      PC-9  ...     PC-17     PC-18     PC-19     PC-20  \\\n",
       "0  1.836611  0.609901 -2.733916  ... -0.511207 -0.186755  0.636677  0.099046   \n",
       "1 -0.076268 -0.136244 -0.240699  ... -0.534478 -0.155995 -0.315237  0.123902   \n",
       "2 -1.625647 -1.068226 -2.849511  ... -0.857847 -0.056762  0.017399 -0.193334   \n",
       "3  1.042619  1.559450 -0.374476  ...  0.382775  0.180908  0.422959 -0.277936   \n",
       "4  1.277585  0.126217 -0.238558  ... -1.274111  0.733258  0.095008  0.738988   \n",
       "\n",
       "      PC-21     PC-22     PC-23     PC-24     PC-25  target  \n",
       "0 -0.794984 -1.274774  0.140583  0.203621 -0.261522       0  \n",
       "1 -0.047493 -0.071882  0.012204 -0.086448  0.120499       0  \n",
       "2 -0.868726  0.505708 -0.600392 -0.297386  0.364824       0  \n",
       "3 -0.866046  0.047766  0.005027 -0.436923  0.601732       0  \n",
       "4 -0.351308  1.051245  0.688890  0.310848 -0.674161       0  \n",
       "\n",
       "[5 rows x 27 columns]"
      ]
     },
     "execution_count": 58,
     "metadata": {},
     "output_type": "execute_result"
    }
   ],
   "source": [
    "test_pca_df.head()"
   ]
  },
  {
   "cell_type": "markdown",
   "id": "437dfb2a",
   "metadata": {},
   "source": [
    "#### Target"
   ]
  },
  {
   "cell_type": "code",
   "execution_count": 59,
   "id": "70222d47",
   "metadata": {},
   "outputs": [
    {
     "data": {
      "text/plain": [
       "32884    0\n",
       "3169     0\n",
       "32206    0\n",
       "9403     0\n",
       "14020    0\n",
       "Name: berlangganan_deposito, dtype: int32"
      ]
     },
     "execution_count": 59,
     "metadata": {},
     "output_type": "execute_result"
    }
   ],
   "source": [
    "y_test.head()"
   ]
  },
  {
   "cell_type": "markdown",
   "id": "30cf47ab",
   "metadata": {},
   "source": [
    "### Modelling\n",
    "Model klasifikasi machine learning yang digunakan pada tugas ini yaitu:\n",
    "1. Logistic Regression\n",
    "2. KNN\n",
    "3. SVM\n",
    "4. Decision Tree\n",
    "5. Random Forest\n",
    "6. Naive Bayes\n",
    "\n",
    "Recall akan digunakan sebagai penilaian model karena pada permasalahan ini bertujuan untuk meminimumkan False Negative\n",
    "Confusion matrix:\n",
    " Predicted\n",
    "  0(No) 1(yes)\n",
    "0(No)\n",
    "1(yes)\n",
    "\n",
    "Alur\n",
    "1. Setiap model akan dilihat performanya dengan akurasi untuk pertama kali. Semua model yang digunakan akan menggunakan default parameter pada masing-masing model.\n",
    "2. Hasil akurasi setiap model akan dibandingkan dengan boxplot\n",
    "3. Setiap model akan dituning dengan memilih metric recall\n",
    "4. Model dengan rata-rata recall terbaik akan dipilih sebagai model terbaik.\n",
    "5. Model terbaik tersebut akan dituning kembali dengan menerapkan undersampling pada dataset karena dataset memiliki kelas yang unbalanced"
   ]
  },
  {
   "cell_type": "code",
   "execution_count": 60,
   "id": "c0c05687",
   "metadata": {},
   "outputs": [],
   "source": [
    "# Inisialisasi fold dan scoring yang digunakan\n",
    "num_fold = 10\n",
    "scoring_accuracy ='accuracy'\n",
    "scoring_recall = 'recall'"
   ]
  },
  {
   "cell_type": "code",
   "execution_count": 61,
   "id": "b0db67fe",
   "metadata": {},
   "outputs": [],
   "source": [
    "# buat list dari seluruh model yang digunakan\n",
    "models = []\n",
    "\n",
    "# append model\n",
    "models.append(('Logistic Regression', LogisticRegression()))\n",
    "models.append(('K-Nearest Neighbor', KNeighborsClassifier()))\n",
    "models.append(('Support Vector Machine', SVC()))\n",
    "models.append(('Decision Tree', DecisionTreeClassifier()))\n",
    "models.append(('Random Forest', RandomForestClassifier()))\n",
    "models.append(('Naive Bayes', GaussianNB()))\n",
    "\n",
    "#k-fold cross validation initialization object\n",
    "kfold = KFold(n_splits=num_fold, random_state=42, shuffle=True)"
   ]
  },
  {
   "cell_type": "code",
   "execution_count": 62,
   "id": "9eb5df6c",
   "metadata": {},
   "outputs": [],
   "source": [
    "def perform_model(models,X_train,y_train,kfold, scoring='accuracy'):\n",
    "    \"\"\"\n",
    "        Deskripsi Function:\n",
    "        - Fungsi ini digunakan untuk melakukan model cross-validation dengan data latih yang ada. Setiap model\n",
    "        akan divalidasi dengan ukuran skor (scoring) yang telah ditetapkan, semisal (akurasi, recall, etc).\n",
    "        \n",
    "        Function parameters:\n",
    "        - models: list of tuples dari model yang ingin dituning (LogisticRegression, SVM, etc)\n",
    "        - X_train: dataframe atau np.array dari atribut data latih yang sudah dipreprocessing\n",
    "        - y_train: dataframe atau np.array dari target data latih yang sudah dipreprocessing\n",
    "        - kfold: objek hasil instansiasi kelas KFold \n",
    "        - scoring: metode untuk memngukur performa model (accuracy, recall, precision, etc)\n",
    "        \n",
    "        Function returns:\n",
    "        - cv_results: List dari hasil cross validation setiap model yang sudah dituning\n",
    "        - model_names: List dari nama setiap model (string)\n",
    "        - print_msg: List berupa pesan untuk menampilkan model dengan hasil performanya pada data validasi\n",
    "    \"\"\"\n",
    "    cv_results = [] #menampung hasil crossvalidation setiap model\n",
    "    model_names = [] #menampung nama model\n",
    "    print_msg = [] #menampung pesan yang akan ditampilkan\n",
    "    \n",
    "    \n",
    "    for model_name, model in models:\n",
    "        #cross validation result\n",
    "        cv_result = cross_val_score(model,X_train,y_train, cv=kfold,scoring=scoring)\n",
    "\n",
    "        #append into list\n",
    "        cv_results.append(cv_result)\n",
    "        model_names.append(model_name)\n",
    "\n",
    "        #print result\n",
    "        msg_result = \"{}: mean {} = {}  std {} = {}\".format(model_name,scoring,cv_result.mean(),scoring,cv_result.std())\n",
    "        print_msg.append(msg_result)\n",
    "    \n",
    "    return cv_results,model_names,print_msg"
   ]
  },
  {
   "cell_type": "markdown",
   "id": "8fed53c9",
   "metadata": {},
   "source": [
    "#### Hitung mean dan std dari akurasi dari setiap model yang digunakan\n",
    "Validasi yang digunakan adalah 10-fold cross-validation"
   ]
  },
  {
   "cell_type": "code",
   "execution_count": 67,
   "id": "c72595f8",
   "metadata": {},
   "outputs": [],
   "source": [
    "cv_results_accuracy, model_names, print_msg_accuracy=perform_model(\n",
    "    models=models,\n",
    "    X_train=X_train_pca,\n",
    "    y_train=y_train,\n",
    "    kfold=kfold,\n",
    "    scoring=scoring_accuracy\n",
    ")"
   ]
  },
  {
   "cell_type": "code",
   "execution_count": 68,
   "id": "198461ba",
   "metadata": {},
   "outputs": [
    {
     "name": "stdout",
     "output_type": "stream",
     "text": [
      "Logistic Regression: mean accuracy = 0.90154779969651  std accuracy = 0.004385826257845238\n",
      "K-Nearest Neighbor: mean accuracy = 0.895690440060698  std accuracy = 0.005063921867545952\n",
      "Support Vector Machine: mean accuracy = 0.9055538694992412  std accuracy = 0.00448672986041307\n",
      "Decision Tree: mean accuracy = 0.8736874051593324  std accuracy = 0.004129696799556685\n",
      "Random Forest: mean accuracy = 0.9033080424886191  std accuracy = 0.005391884721684691\n",
      "Naive Bayes: mean accuracy = 0.8802124430955993  std accuracy = 0.005573073922419499\n"
     ]
    }
   ],
   "source": [
    "# cetak hasil rata-rata akurasi setiap model\n",
    "for msg in print_msg_accuracy:\n",
    "    print(msg)"
   ]
  },
  {
   "cell_type": "markdown",
   "id": "e2374cc0",
   "metadata": {},
   "source": [
    "#### Bandingkan hasil akurasi setiap model"
   ]
  },
  {
   "cell_type": "code",
   "execution_count": 69,
   "id": "f0fbac69",
   "metadata": {},
   "outputs": [
    {
     "data": {
      "image/png": "[encoded data removed]",
      "text/plain": [
       "<Figure size 576x288 with 1 Axes>"
      ]
     },
     "metadata": {
      "needs_background": "light"
     },
     "output_type": "display_data"
    }
   ],
   "source": [
    "fig = plt.figure(figsize=(10,8))\n",
    "fig.suptitle('Hasil perbandingan akurasi setiap model klasifikasi')\n",
    "ax = fig.add_subplot(111)\n",
    "\n",
    "plt.boxplot(cv_results_accuracy)\n",
    "ax.set_xticklabels(model_names, rotation=90)\n",
    "fig.set_size_inches(8,4)\n",
    "plt.show()"
   ]
  },
  {
   "cell_type": "markdown",
   "id": "56ec3a30",
   "metadata": {},
   "source": [
    "#### ANALISIS\n",
    "1. Dari segi akurasi Logistic Regression, SVM, dan Random Forest tampil menjadi model terbaik dengan rata-rata akurasi ketiga model ini yang hampir sama.\n",
    "2. Decision Tree dan Naive Bayes memberikan performa akurasi paling rendah"
   ]
  },
  {
   "cell_type": "markdown",
   "id": "214a3c7a",
   "metadata": {},
   "source": [
    "#### Melihat confusion matrix dari SVM\n",
    "Ukuran performa yang digunakan pada permasalahan ini adalah memaksimalkan recall"
   ]
  },
  {
   "cell_type": "code",
   "execution_count": 70,
   "id": "4bf8e1f0",
   "metadata": {},
   "outputs": [],
   "source": [
    "# inisialisasi model SVM dengan default parameter\n",
    "svm = SVC()\n",
    "\n",
    "# fit model into training data\n",
    "svm.fit(X_train_pca,y_train)\n",
    "\n",
    "# get y prediction\n",
    "y_pred = svm.predict(X_test_pca)"
   ]
  },
  {
   "cell_type": "code",
   "execution_count": 71,
   "id": "eaab1074",
   "metadata": {},
   "outputs": [
    {
     "name": "stdout",
     "output_type": "stream",
     "text": [
      "SVM Recall score =  0.32727272727272727\n",
      "              precision    recall  f1-score   support\n",
      "\n",
      "           0       0.92      0.98      0.95      7303\n",
      "           1       0.64      0.33      0.43       935\n",
      "\n",
      "    accuracy                           0.90      8238\n",
      "   macro avg       0.78      0.65      0.69      8238\n",
      "weighted avg       0.89      0.90      0.89      8238\n",
      "\n",
      "[[7133  170]\n",
      " [ 629  306]]\n"
     ]
    }
   ],
   "source": [
    "# print results\n",
    "print(\"SVM Recall score = \", metrics.recall_score(y_test,y_pred))\n",
    "print(metrics.classification_report(y_test,y_pred))\n",
    "\n",
    "# confusion matrix\n",
    "print(metrics.confusion_matrix(y_test,y_pred))"
   ]
  },
  {
   "cell_type": "markdown",
   "id": "0e11a7fe",
   "metadata": {},
   "source": [
    "#### ANALISIS HASIL CONFUSION MATRIX SVM\n",
    "Model SVM walaupun memberikan nilai rata-rata akurasi tertinggi, namun nyatanya masih belum maksimal dalam memberikan recall terbaik. Hal ini dibuktikan dengan nilai FN yang besar yaitu 629 dibandingkan TP yaitu 306.\n",
    "\n",
    "Penting!!\n",
    "Nilai FN dan TP mungkin bervariasi seiring kode program dijalankan dan komputer yang digunakan. Namun, saat dijalankan SVM muncul memberikan hasil seperti di atas"
   ]
  },
  {
   "cell_type": "markdown",
   "id": "9e31ed6c",
   "metadata": {},
   "source": [
    "#### Model Tuning dengan memilih metriks evaluasi yang benar\n",
    "Recall akan digunakan untuk mentuning model yang digunakan"
   ]
  },
  {
   "cell_type": "code",
   "execution_count": 72,
   "id": "c3c3584e",
   "metadata": {},
   "outputs": [],
   "source": [
    "cv_results_recall, model_names, print_msg_recall = perform_model(\n",
    "    models=models,\n",
    "    X_train=X_train_pca,\n",
    "    y_train=y_train,\n",
    "    kfold=kfold,\n",
    "    scoring=scoring_recall\n",
    ")"
   ]
  },
  {
   "cell_type": "code",
   "execution_count": 73,
   "id": "de6abb59",
   "metadata": {},
   "outputs": [
    {
     "name": "stdout",
     "output_type": "stream",
     "text": [
      "Logistic Regression: mean recall = 0.2909886291347973  std recall = 0.02676563329980312\n",
      "K-Nearest Neighbor: mean recall = 0.3083747431294995  std recall = 0.028161408860175405\n",
      "Support Vector Machine: mean recall = 0.32809678646122215  std recall = 0.025047022460185628\n",
      "Decision Tree: mean recall = 0.4376034326718944  std recall = 0.020006510609850276\n",
      "Random Forest: mean recall = 0.37742140815149017  std recall = 0.029118875251340198\n",
      "Naive Bayes: mean recall = 0.40820439085612514  std recall = 0.03248975909880703\n"
     ]
    }
   ],
   "source": [
    "# cetak hasil rata-rata recall setiap model\n",
    "for msg in print_msg_recall:\n",
    "    print(msg)"
   ]
  },
  {
   "cell_type": "markdown",
   "id": "5a05f1d8",
   "metadata": {},
   "source": [
    "#### Bandingkan hasil recall setiap model"
   ]
  },
  {
   "cell_type": "code",
   "execution_count": 74,
   "id": "74161a4c",
   "metadata": {},
   "outputs": [
    {
     "data": {
      "image/png": "[encoded data removed]",
      "text/plain": [
       "<Figure size 576x288 with 1 Axes>"
      ]
     },
     "metadata": {
      "needs_background": "light"
     },
     "output_type": "display_data"
    }
   ],
   "source": [
    "fig = plt.figure(figsize=(10,8))\n",
    "fig.suptitle('Hasil perbandingan recall setiap model klasifikasi')\n",
    "ax = fig.add_subplot(111)\n",
    "\n",
    "plt.boxplot(cv_results_recall)\n",
    "ax.set_xticklabels(model_names, rotation=90)\n",
    "fig.set_size_inches(8,4)\n",
    "plt.show()"
   ]
  },
  {
   "cell_type": "markdown",
   "id": "a42b4ae3",
   "metadata": {},
   "source": [
    "#### ANALISIS\n",
    "1. Decision Tree dan Naive Bayes tampil dengan rata-rata recall terbaik dibandingkan model-model lainnya.\n",
    "2. Akurasi pada dataset yang imbalanced tidak bisa menjadi penentu untuk memilih model. Bisa dilihat bahwa SVM tidak mampu memberikan performa recall yang terbaik, padahal sebelumnya model ini memberikan akurasi tertinggi.\n",
    "\n"
   ]
  },
  {
   "cell_type": "markdown",
   "id": "2ceffa4e",
   "metadata": {},
   "source": [
    "#### Evaluasi model dengan recall terbaik menggunakan data testing"
   ]
  },
  {
   "cell_type": "code",
   "execution_count": 75,
   "id": "c25b475b",
   "metadata": {},
   "outputs": [],
   "source": [
    "# inisialisasi model Decision Tree\n",
    "dt = DecisionTreeClassifier()\n",
    "\n",
    "# fit model into training data\n",
    "dt.fit(X_train_pca,y_train)\n",
    "\n",
    "# get y prediction\n",
    "y_pred_dt = dt.predict(X_test_pca)"
   ]
  },
  {
   "cell_type": "code",
   "execution_count": 76,
   "id": "4c07ecee",
   "metadata": {},
   "outputs": [
    {
     "name": "stdout",
     "output_type": "stream",
     "text": [
      "Accuracy score Decision Tree =  0.8737557659626123\n",
      "              precision    recall  f1-score   support\n",
      "\n",
      "           0       0.93      0.93      0.93      7303\n",
      "           1       0.44      0.45      0.45       935\n",
      "\n",
      "    accuracy                           0.87      8238\n",
      "   macro avg       0.69      0.69      0.69      8238\n",
      "weighted avg       0.87      0.87      0.87      8238\n",
      "\n",
      "[[6778  525]\n",
      " [ 515  420]]\n"
     ]
    }
   ],
   "source": [
    "# print score\n",
    "print(\"Accuracy score Decision Tree = \", metrics.accuracy_score(y_test,y_pred_dt))\n",
    "print(metrics.classification_report(y_test,y_pred_dt))\n",
    "\n",
    "# confusion matrix\n",
    "print(metrics.confusion_matrix(y_test,y_pred_dt))"
   ]
  },
  {
   "cell_type": "markdown",
   "id": "6c7ce282",
   "metadata": {},
   "source": [
    "Decision Tree masih memberikan FN (511) dan FP (521) yang terbilang masih tinggi.\n",
    "\n",
    "Penting!!\n",
    "Nilai FN dan FP mungkin bervariasi seiring kode program dijalankan dan komputer yang digunakan. Namun, saat dijalankan Decision Tree (DT) muncul memberikan hasil seperti di atas"
   ]
  },
  {
   "cell_type": "markdown",
   "id": "05bf1de2",
   "metadata": {},
   "source": [
    "### Model Tuning dengan balancing data sampel - undersampling\n",
    "Sampel dataset memiliki ketidakseimbangan pada label kelas yang cukup besar. Hal ini bisa menyebabkan bias pada kelas mayoritas; menyebabkan performa model klasifikasi menjadi menurun; dan meningkatkan terjadinya FN\n",
    "Model yang ingin dikembangkan adalah sebisa mungkin meminimumkan adanya FN, sehingga perlu dilakukan penyeimbangan pada label kelas. Salah satu caranya dengan undersampling\n",
    "#### Undersampling dataset pada kelas yang dominan menjadi sama dengan kelas minoritas"
   ]
  },
  {
   "cell_type": "code",
   "execution_count": 77,
   "id": "25125fec",
   "metadata": {},
   "outputs": [],
   "source": [
    "# menyatukan atribut dan target pada data latih\n",
    "df = pd.concat([pd.DataFrame(data=X_train_pca),y_train.reset_index()['berlangganan_deposito']],axis=1)"
   ]
  },
  {
   "cell_type": "code",
   "execution_count": 78,
   "id": "f867daf3",
   "metadata": {},
   "outputs": [
    {
     "data": {
      "text/html": [
       "<div>\n",
       "<style scoped>\n",
       "    .dataframe tbody tr th:only-of-type {\n",
       "        vertical-align: middle;\n",
       "    }\n",
       "\n",
       "    .dataframe tbody tr th {\n",
       "        vertical-align: top;\n",
       "    }\n",
       "\n",
       "    .dataframe thead th {\n",
       "        text-align: right;\n",
       "    }\n",
       "</style>\n",
       "<table border=\"1\" class=\"dataframe\">\n",
       "  <thead>\n",
       "    <tr style=\"text-align: right;\">\n",
       "      <th></th>\n",
       "      <th>0</th>\n",
       "      <th>1</th>\n",
       "      <th>2</th>\n",
       "      <th>3</th>\n",
       "      <th>4</th>\n",
       "      <th>5</th>\n",
       "      <th>6</th>\n",
       "      <th>7</th>\n",
       "      <th>8</th>\n",
       "      <th>9</th>\n",
       "      <th>...</th>\n",
       "      <th>17</th>\n",
       "      <th>18</th>\n",
       "      <th>19</th>\n",
       "      <th>20</th>\n",
       "      <th>21</th>\n",
       "      <th>22</th>\n",
       "      <th>23</th>\n",
       "      <th>24</th>\n",
       "      <th>25</th>\n",
       "      <th>berlangganan_deposito</th>\n",
       "    </tr>\n",
       "  </thead>\n",
       "  <tbody>\n",
       "    <tr>\n",
       "      <th>0</th>\n",
       "      <td>-1.511243</td>\n",
       "      <td>1.334518</td>\n",
       "      <td>-1.695662</td>\n",
       "      <td>0.386474</td>\n",
       "      <td>-1.150228</td>\n",
       "      <td>-0.086657</td>\n",
       "      <td>0.782231</td>\n",
       "      <td>-1.614204</td>\n",
       "      <td>0.736784</td>\n",
       "      <td>0.597487</td>\n",
       "      <td>...</td>\n",
       "      <td>-1.031676</td>\n",
       "      <td>-0.755364</td>\n",
       "      <td>0.115514</td>\n",
       "      <td>0.168989</td>\n",
       "      <td>-0.247780</td>\n",
       "      <td>-0.051058</td>\n",
       "      <td>-0.104321</td>\n",
       "      <td>-0.152240</td>\n",
       "      <td>-0.409819</td>\n",
       "      <td>0</td>\n",
       "    </tr>\n",
       "    <tr>\n",
       "      <th>1</th>\n",
       "      <td>1.173158</td>\n",
       "      <td>-0.284931</td>\n",
       "      <td>-0.199017</td>\n",
       "      <td>-1.835808</td>\n",
       "      <td>-0.114181</td>\n",
       "      <td>-1.985372</td>\n",
       "      <td>-1.145680</td>\n",
       "      <td>-0.240566</td>\n",
       "      <td>0.351816</td>\n",
       "      <td>-0.360753</td>\n",
       "      <td>...</td>\n",
       "      <td>-0.407467</td>\n",
       "      <td>-0.208894</td>\n",
       "      <td>-0.018301</td>\n",
       "      <td>-0.404012</td>\n",
       "      <td>-0.698301</td>\n",
       "      <td>0.903253</td>\n",
       "      <td>-0.204881</td>\n",
       "      <td>-0.343336</td>\n",
       "      <td>0.426936</td>\n",
       "      <td>0</td>\n",
       "    </tr>\n",
       "    <tr>\n",
       "      <th>2</th>\n",
       "      <td>3.712698</td>\n",
       "      <td>1.781292</td>\n",
       "      <td>-0.663166</td>\n",
       "      <td>3.433024</td>\n",
       "      <td>-1.017087</td>\n",
       "      <td>-1.091369</td>\n",
       "      <td>0.078038</td>\n",
       "      <td>1.872574</td>\n",
       "      <td>1.027398</td>\n",
       "      <td>-3.014961</td>\n",
       "      <td>...</td>\n",
       "      <td>-1.387912</td>\n",
       "      <td>-1.656747</td>\n",
       "      <td>-0.387680</td>\n",
       "      <td>-1.229422</td>\n",
       "      <td>-0.930071</td>\n",
       "      <td>0.014539</td>\n",
       "      <td>-0.866707</td>\n",
       "      <td>-0.533354</td>\n",
       "      <td>0.605054</td>\n",
       "      <td>0</td>\n",
       "    </tr>\n",
       "    <tr>\n",
       "      <th>3</th>\n",
       "      <td>-1.522565</td>\n",
       "      <td>-0.928769</td>\n",
       "      <td>-1.015817</td>\n",
       "      <td>1.812700</td>\n",
       "      <td>-1.880044</td>\n",
       "      <td>-0.150520</td>\n",
       "      <td>2.122634</td>\n",
       "      <td>-0.142617</td>\n",
       "      <td>-0.068535</td>\n",
       "      <td>-0.544942</td>\n",
       "      <td>...</td>\n",
       "      <td>-1.879334</td>\n",
       "      <td>1.015212</td>\n",
       "      <td>-0.480555</td>\n",
       "      <td>1.151536</td>\n",
       "      <td>0.273106</td>\n",
       "      <td>1.049042</td>\n",
       "      <td>0.171223</td>\n",
       "      <td>0.018309</td>\n",
       "      <td>-0.809682</td>\n",
       "      <td>0</td>\n",
       "    </tr>\n",
       "    <tr>\n",
       "      <th>4</th>\n",
       "      <td>-0.848371</td>\n",
       "      <td>1.547174</td>\n",
       "      <td>0.656675</td>\n",
       "      <td>-1.971561</td>\n",
       "      <td>0.909642</td>\n",
       "      <td>-0.575973</td>\n",
       "      <td>-0.097619</td>\n",
       "      <td>1.042196</td>\n",
       "      <td>-0.858406</td>\n",
       "      <td>0.573198</td>\n",
       "      <td>...</td>\n",
       "      <td>-0.544381</td>\n",
       "      <td>-0.144939</td>\n",
       "      <td>0.191869</td>\n",
       "      <td>-0.490213</td>\n",
       "      <td>-1.031003</td>\n",
       "      <td>0.324272</td>\n",
       "      <td>-0.210001</td>\n",
       "      <td>-0.487958</td>\n",
       "      <td>0.586279</td>\n",
       "      <td>0</td>\n",
       "    </tr>\n",
       "    <tr>\n",
       "      <th>...</th>\n",
       "      <td>...</td>\n",
       "      <td>...</td>\n",
       "      <td>...</td>\n",
       "      <td>...</td>\n",
       "      <td>...</td>\n",
       "      <td>...</td>\n",
       "      <td>...</td>\n",
       "      <td>...</td>\n",
       "      <td>...</td>\n",
       "      <td>...</td>\n",
       "      <td>...</td>\n",
       "      <td>...</td>\n",
       "      <td>...</td>\n",
       "      <td>...</td>\n",
       "      <td>...</td>\n",
       "      <td>...</td>\n",
       "      <td>...</td>\n",
       "      <td>...</td>\n",
       "      <td>...</td>\n",
       "      <td>...</td>\n",
       "      <td>...</td>\n",
       "    </tr>\n",
       "    <tr>\n",
       "      <th>32945</th>\n",
       "      <td>-1.582803</td>\n",
       "      <td>1.671359</td>\n",
       "      <td>1.698724</td>\n",
       "      <td>2.742042</td>\n",
       "      <td>-0.327508</td>\n",
       "      <td>0.484780</td>\n",
       "      <td>-1.401440</td>\n",
       "      <td>2.075616</td>\n",
       "      <td>-0.086916</td>\n",
       "      <td>-0.097839</td>\n",
       "      <td>...</td>\n",
       "      <td>-0.692305</td>\n",
       "      <td>-0.587552</td>\n",
       "      <td>0.557203</td>\n",
       "      <td>-0.887195</td>\n",
       "      <td>-0.892216</td>\n",
       "      <td>-0.721160</td>\n",
       "      <td>-0.262207</td>\n",
       "      <td>-0.458512</td>\n",
       "      <td>0.828674</td>\n",
       "      <td>0</td>\n",
       "    </tr>\n",
       "    <tr>\n",
       "      <th>32946</th>\n",
       "      <td>-2.100125</td>\n",
       "      <td>0.476513</td>\n",
       "      <td>1.045828</td>\n",
       "      <td>-0.236591</td>\n",
       "      <td>1.872174</td>\n",
       "      <td>-1.099412</td>\n",
       "      <td>-0.326316</td>\n",
       "      <td>-1.252750</td>\n",
       "      <td>2.508468</td>\n",
       "      <td>-0.046761</td>\n",
       "      <td>...</td>\n",
       "      <td>1.661530</td>\n",
       "      <td>0.376740</td>\n",
       "      <td>-0.329451</td>\n",
       "      <td>0.311259</td>\n",
       "      <td>-1.496957</td>\n",
       "      <td>-0.273333</td>\n",
       "      <td>-0.685036</td>\n",
       "      <td>-0.223107</td>\n",
       "      <td>-0.015061</td>\n",
       "      <td>0</td>\n",
       "    </tr>\n",
       "    <tr>\n",
       "      <th>32947</th>\n",
       "      <td>6.231551</td>\n",
       "      <td>1.368698</td>\n",
       "      <td>4.377649</td>\n",
       "      <td>0.069815</td>\n",
       "      <td>0.108228</td>\n",
       "      <td>0.100225</td>\n",
       "      <td>2.419445</td>\n",
       "      <td>0.532504</td>\n",
       "      <td>-1.110058</td>\n",
       "      <td>3.403071</td>\n",
       "      <td>...</td>\n",
       "      <td>0.043478</td>\n",
       "      <td>-1.468003</td>\n",
       "      <td>0.907891</td>\n",
       "      <td>-1.119748</td>\n",
       "      <td>-1.439291</td>\n",
       "      <td>0.984686</td>\n",
       "      <td>-0.586200</td>\n",
       "      <td>4.087818</td>\n",
       "      <td>-2.660850</td>\n",
       "      <td>1</td>\n",
       "    </tr>\n",
       "    <tr>\n",
       "      <th>32948</th>\n",
       "      <td>-1.646952</td>\n",
       "      <td>0.868616</td>\n",
       "      <td>1.270413</td>\n",
       "      <td>-0.081688</td>\n",
       "      <td>1.761256</td>\n",
       "      <td>-1.154579</td>\n",
       "      <td>-1.057345</td>\n",
       "      <td>-0.863605</td>\n",
       "      <td>-0.624857</td>\n",
       "      <td>-0.426919</td>\n",
       "      <td>...</td>\n",
       "      <td>0.737211</td>\n",
       "      <td>0.351717</td>\n",
       "      <td>-0.901660</td>\n",
       "      <td>0.691371</td>\n",
       "      <td>-0.531243</td>\n",
       "      <td>-0.465738</td>\n",
       "      <td>-0.577922</td>\n",
       "      <td>0.315728</td>\n",
       "      <td>-0.304656</td>\n",
       "      <td>0</td>\n",
       "    </tr>\n",
       "    <tr>\n",
       "      <th>32949</th>\n",
       "      <td>-0.076603</td>\n",
       "      <td>-2.032473</td>\n",
       "      <td>0.014208</td>\n",
       "      <td>-2.110189</td>\n",
       "      <td>-0.859624</td>\n",
       "      <td>-1.351725</td>\n",
       "      <td>0.837719</td>\n",
       "      <td>-1.055604</td>\n",
       "      <td>0.905411</td>\n",
       "      <td>0.055254</td>\n",
       "      <td>...</td>\n",
       "      <td>-0.744724</td>\n",
       "      <td>-0.790906</td>\n",
       "      <td>0.678590</td>\n",
       "      <td>-0.074882</td>\n",
       "      <td>-0.585198</td>\n",
       "      <td>0.004028</td>\n",
       "      <td>0.619554</td>\n",
       "      <td>0.014187</td>\n",
       "      <td>-0.181336</td>\n",
       "      <td>0</td>\n",
       "    </tr>\n",
       "  </tbody>\n",
       "</table>\n",
       "<p>32950 rows × 27 columns</p>\n",
       "</div>"
      ],
      "text/plain": [
       "              0         1         2         3         4         5         6  \\\n",
       "0     -1.511243  1.334518 -1.695662  0.386474 -1.150228 -0.086657  0.782231   \n",
       "1      1.173158 -0.284931 -0.199017 -1.835808 -0.114181 -1.985372 -1.145680   \n",
       "2      3.712698  1.781292 -0.663166  3.433024 -1.017087 -1.091369  0.078038   \n",
       "3     -1.522565 -0.928769 -1.015817  1.812700 -1.880044 -0.150520  2.122634   \n",
       "4     -0.848371  1.547174  0.656675 -1.971561  0.909642 -0.575973 -0.097619   \n",
       "...         ...       ...       ...       ...       ...       ...       ...   \n",
       "32945 -1.582803  1.671359  1.698724  2.742042 -0.327508  0.484780 -1.401440   \n",
       "32946 -2.100125  0.476513  1.045828 -0.236591  1.872174 -1.099412 -0.326316   \n",
       "32947  6.231551  1.368698  4.377649  0.069815  0.108228  0.100225  2.419445   \n",
       "32948 -1.646952  0.868616  1.270413 -0.081688  1.761256 -1.154579 -1.057345   \n",
       "32949 -0.076603 -2.032473  0.014208 -2.110189 -0.859624 -1.351725  0.837719   \n",
       "\n",
       "              7         8         9  ...        17        18        19  \\\n",
       "0     -1.614204  0.736784  0.597487  ... -1.031676 -0.755364  0.115514   \n",
       "1     -0.240566  0.351816 -0.360753  ... -0.407467 -0.208894 -0.018301   \n",
       "2      1.872574  1.027398 -3.014961  ... -1.387912 -1.656747 -0.387680   \n",
       "3     -0.142617 -0.068535 -0.544942  ... -1.879334  1.015212 -0.480555   \n",
       "4      1.042196 -0.858406  0.573198  ... -0.544381 -0.144939  0.191869   \n",
       "...         ...       ...       ...  ...       ...       ...       ...   \n",
       "32945  2.075616 -0.086916 -0.097839  ... -0.692305 -0.587552  0.557203   \n",
       "32946 -1.252750  2.508468 -0.046761  ...  1.661530  0.376740 -0.329451   \n",
       "32947  0.532504 -1.110058  3.403071  ...  0.043478 -1.468003  0.907891   \n",
       "32948 -0.863605 -0.624857 -0.426919  ...  0.737211  0.351717 -0.901660   \n",
       "32949 -1.055604  0.905411  0.055254  ... -0.744724 -0.790906  0.678590   \n",
       "\n",
       "             20        21        22        23        24        25  \\\n",
       "0      0.168989 -0.247780 -0.051058 -0.104321 -0.152240 -0.409819   \n",
       "1     -0.404012 -0.698301  0.903253 -0.204881 -0.343336  0.426936   \n",
       "2     -1.229422 -0.930071  0.014539 -0.866707 -0.533354  0.605054   \n",
       "3      1.151536  0.273106  1.049042  0.171223  0.018309 -0.809682   \n",
       "4     -0.490213 -1.031003  0.324272 -0.210001 -0.487958  0.586279   \n",
       "...         ...       ...       ...       ...       ...       ...   \n",
       "32945 -0.887195 -0.892216 -0.721160 -0.262207 -0.458512  0.828674   \n",
       "32946  0.311259 -1.496957 -0.273333 -0.685036 -0.223107 -0.015061   \n",
       "32947 -1.119748 -1.439291  0.984686 -0.586200  4.087818 -2.660850   \n",
       "32948  0.691371 -0.531243 -0.465738 -0.577922  0.315728 -0.304656   \n",
       "32949 -0.074882 -0.585198  0.004028  0.619554  0.014187 -0.181336   \n",
       "\n",
       "       berlangganan_deposito  \n",
       "0                          0  \n",
       "1                          0  \n",
       "2                          0  \n",
       "3                          0  \n",
       "4                          0  \n",
       "...                      ...  \n",
       "32945                      0  \n",
       "32946                      0  \n",
       "32947                      1  \n",
       "32948                      0  \n",
       "32949                      0  \n",
       "\n",
       "[32950 rows x 27 columns]"
      ]
     },
     "execution_count": 78,
     "metadata": {},
     "output_type": "execute_result"
    }
   ],
   "source": [
    "df"
   ]
  },
  {
   "cell_type": "code",
   "execution_count": 79,
   "id": "8fcb5ddf",
   "metadata": {},
   "outputs": [
    {
     "data": {
      "text/plain": [
       "0    29245\n",
       "1     3705\n",
       "Name: berlangganan_deposito, dtype: int64"
      ]
     },
     "execution_count": 79,
     "metadata": {},
     "output_type": "execute_result"
    }
   ],
   "source": [
    "# melihat banyak setiap nilai pada label kelas\n",
    "df['berlangganan_deposito'].value_counts()"
   ]
  },
  {
   "cell_type": "code",
   "execution_count": 80,
   "id": "ec582be2",
   "metadata": {},
   "outputs": [],
   "source": [
    "# under-sampling kelas 'No' menjadi 3705\n",
    "no_df = df[df['berlangganan_deposito']==0][:df['berlangganan_deposito'].value_counts()[1]]\n",
    "yes_df = df[df['berlangganan_deposito']==1]"
   ]
  },
  {
   "cell_type": "markdown",
   "id": "1d148417",
   "metadata": {},
   "source": [
    "#### Menggabungkan dataset yang setiap kelasnya sudah balanced menjadi 1"
   ]
  },
  {
   "cell_type": "code",
   "execution_count": 81,
   "id": "d38e40ff",
   "metadata": {},
   "outputs": [],
   "source": [
    "normal_distributed_df = pd.concat([yes_df,no_df])\n",
    "\n",
    "# shuffle row pada data yang sudah digabung agar acak\n",
    "bank_df_normal_distributed = normal_distributed_df.sample(frac=1, random_state=42)"
   ]
  },
  {
   "cell_type": "code",
   "execution_count": 82,
   "id": "bb95f611",
   "metadata": {},
   "outputs": [
    {
     "data": {
      "text/html": [
       "<div>\n",
       "<style scoped>\n",
       "    .dataframe tbody tr th:only-of-type {\n",
       "        vertical-align: middle;\n",
       "    }\n",
       "\n",
       "    .dataframe tbody tr th {\n",
       "        vertical-align: top;\n",
       "    }\n",
       "\n",
       "    .dataframe thead th {\n",
       "        text-align: right;\n",
       "    }\n",
       "</style>\n",
       "<table border=\"1\" class=\"dataframe\">\n",
       "  <thead>\n",
       "    <tr style=\"text-align: right;\">\n",
       "      <th></th>\n",
       "      <th>0</th>\n",
       "      <th>1</th>\n",
       "      <th>2</th>\n",
       "      <th>3</th>\n",
       "      <th>4</th>\n",
       "      <th>5</th>\n",
       "      <th>6</th>\n",
       "      <th>7</th>\n",
       "      <th>8</th>\n",
       "      <th>9</th>\n",
       "      <th>...</th>\n",
       "      <th>17</th>\n",
       "      <th>18</th>\n",
       "      <th>19</th>\n",
       "      <th>20</th>\n",
       "      <th>21</th>\n",
       "      <th>22</th>\n",
       "      <th>23</th>\n",
       "      <th>24</th>\n",
       "      <th>25</th>\n",
       "      <th>berlangganan_deposito</th>\n",
       "    </tr>\n",
       "  </thead>\n",
       "  <tbody>\n",
       "    <tr>\n",
       "      <th>1481</th>\n",
       "      <td>-0.951815</td>\n",
       "      <td>-2.668365</td>\n",
       "      <td>1.920263</td>\n",
       "      <td>-0.582789</td>\n",
       "      <td>-0.976472</td>\n",
       "      <td>1.026962</td>\n",
       "      <td>-1.052987</td>\n",
       "      <td>-0.937109</td>\n",
       "      <td>-0.608707</td>\n",
       "      <td>-0.328032</td>\n",
       "      <td>...</td>\n",
       "      <td>0.554808</td>\n",
       "      <td>0.290528</td>\n",
       "      <td>-0.341251</td>\n",
       "      <td>-0.034350</td>\n",
       "      <td>0.417911</td>\n",
       "      <td>0.068061</td>\n",
       "      <td>-0.529477</td>\n",
       "      <td>0.112520</td>\n",
       "      <td>-0.196661</td>\n",
       "      <td>0</td>\n",
       "    </tr>\n",
       "    <tr>\n",
       "      <th>13735</th>\n",
       "      <td>-1.082274</td>\n",
       "      <td>-1.317275</td>\n",
       "      <td>-0.444168</td>\n",
       "      <td>-0.811603</td>\n",
       "      <td>-1.028417</td>\n",
       "      <td>-0.492591</td>\n",
       "      <td>2.694673</td>\n",
       "      <td>1.046423</td>\n",
       "      <td>-0.420743</td>\n",
       "      <td>0.509501</td>\n",
       "      <td>...</td>\n",
       "      <td>-0.302207</td>\n",
       "      <td>1.679571</td>\n",
       "      <td>2.705458</td>\n",
       "      <td>-0.220365</td>\n",
       "      <td>-2.752283</td>\n",
       "      <td>-0.979172</td>\n",
       "      <td>1.721627</td>\n",
       "      <td>-0.497569</td>\n",
       "      <td>1.401083</td>\n",
       "      <td>1</td>\n",
       "    </tr>\n",
       "    <tr>\n",
       "      <th>21627</th>\n",
       "      <td>1.341414</td>\n",
       "      <td>-0.389153</td>\n",
       "      <td>-0.403814</td>\n",
       "      <td>-1.429771</td>\n",
       "      <td>-0.327669</td>\n",
       "      <td>-1.978825</td>\n",
       "      <td>-1.174465</td>\n",
       "      <td>-0.252578</td>\n",
       "      <td>-0.179096</td>\n",
       "      <td>0.338046</td>\n",
       "      <td>...</td>\n",
       "      <td>-0.215739</td>\n",
       "      <td>1.299577</td>\n",
       "      <td>0.772021</td>\n",
       "      <td>0.350013</td>\n",
       "      <td>-0.962976</td>\n",
       "      <td>-0.550751</td>\n",
       "      <td>0.875488</td>\n",
       "      <td>-0.121250</td>\n",
       "      <td>0.465392</td>\n",
       "      <td>1</td>\n",
       "    </tr>\n",
       "    <tr>\n",
       "      <th>2286</th>\n",
       "      <td>0.941306</td>\n",
       "      <td>1.053070</td>\n",
       "      <td>-2.036756</td>\n",
       "      <td>-0.257456</td>\n",
       "      <td>-1.105542</td>\n",
       "      <td>-0.628323</td>\n",
       "      <td>-0.380916</td>\n",
       "      <td>0.999910</td>\n",
       "      <td>-0.728236</td>\n",
       "      <td>0.623289</td>\n",
       "      <td>...</td>\n",
       "      <td>0.357495</td>\n",
       "      <td>0.378756</td>\n",
       "      <td>-0.250692</td>\n",
       "      <td>-0.252108</td>\n",
       "      <td>-0.733617</td>\n",
       "      <td>0.663921</td>\n",
       "      <td>-0.459386</td>\n",
       "      <td>-0.449034</td>\n",
       "      <td>0.583864</td>\n",
       "      <td>0</td>\n",
       "    </tr>\n",
       "    <tr>\n",
       "      <th>22685</th>\n",
       "      <td>5.608011</td>\n",
       "      <td>-0.451881</td>\n",
       "      <td>3.054103</td>\n",
       "      <td>0.646192</td>\n",
       "      <td>2.142381</td>\n",
       "      <td>0.023696</td>\n",
       "      <td>1.817669</td>\n",
       "      <td>-1.413276</td>\n",
       "      <td>-0.760235</td>\n",
       "      <td>1.963417</td>\n",
       "      <td>...</td>\n",
       "      <td>0.300029</td>\n",
       "      <td>1.102034</td>\n",
       "      <td>-0.236460</td>\n",
       "      <td>0.141616</td>\n",
       "      <td>0.615989</td>\n",
       "      <td>0.049382</td>\n",
       "      <td>-0.032151</td>\n",
       "      <td>-0.026121</td>\n",
       "      <td>-0.037830</td>\n",
       "      <td>1</td>\n",
       "    </tr>\n",
       "  </tbody>\n",
       "</table>\n",
       "<p>5 rows × 27 columns</p>\n",
       "</div>"
      ],
      "text/plain": [
       "              0         1         2         3         4         5         6  \\\n",
       "1481  -0.951815 -2.668365  1.920263 -0.582789 -0.976472  1.026962 -1.052987   \n",
       "13735 -1.082274 -1.317275 -0.444168 -0.811603 -1.028417 -0.492591  2.694673   \n",
       "21627  1.341414 -0.389153 -0.403814 -1.429771 -0.327669 -1.978825 -1.174465   \n",
       "2286   0.941306  1.053070 -2.036756 -0.257456 -1.105542 -0.628323 -0.380916   \n",
       "22685  5.608011 -0.451881  3.054103  0.646192  2.142381  0.023696  1.817669   \n",
       "\n",
       "              7         8         9  ...        17        18        19  \\\n",
       "1481  -0.937109 -0.608707 -0.328032  ...  0.554808  0.290528 -0.341251   \n",
       "13735  1.046423 -0.420743  0.509501  ... -0.302207  1.679571  2.705458   \n",
       "21627 -0.252578 -0.179096  0.338046  ... -0.215739  1.299577  0.772021   \n",
       "2286   0.999910 -0.728236  0.623289  ...  0.357495  0.378756 -0.250692   \n",
       "22685 -1.413276 -0.760235  1.963417  ...  0.300029  1.102034 -0.236460   \n",
       "\n",
       "             20        21        22        23        24        25  \\\n",
       "1481  -0.034350  0.417911  0.068061 -0.529477  0.112520 -0.196661   \n",
       "13735 -0.220365 -2.752283 -0.979172  1.721627 -0.497569  1.401083   \n",
       "21627  0.350013 -0.962976 -0.550751  0.875488 -0.121250  0.465392   \n",
       "2286  -0.252108 -0.733617  0.663921 -0.459386 -0.449034  0.583864   \n",
       "22685  0.141616  0.615989  0.049382 -0.032151 -0.026121 -0.037830   \n",
       "\n",
       "       berlangganan_deposito  \n",
       "1481                       0  \n",
       "13735                      1  \n",
       "21627                      1  \n",
       "2286                       0  \n",
       "22685                      1  \n",
       "\n",
       "[5 rows x 27 columns]"
      ]
     },
     "execution_count": 82,
     "metadata": {},
     "output_type": "execute_result"
    }
   ],
   "source": [
    "bank_df_normal_distributed.head()"
   ]
  },
  {
   "cell_type": "markdown",
   "id": "293b5763",
   "metadata": {},
   "source": [
    "### Split attributes dan target"
   ]
  },
  {
   "cell_type": "code",
   "execution_count": 83,
   "id": "2e29049d",
   "metadata": {},
   "outputs": [],
   "source": [
    "X_train_balanced = bank_df_normal_distributed.drop('berlangganan_deposito',axis=1)\n",
    "y_train_balanced = bank_df_normal_distributed['berlangganan_deposito']"
   ]
  },
  {
   "cell_type": "markdown",
   "id": "c2699244",
   "metadata": {},
   "source": [
    "#### Lihat distribusi dari data train yang sudah disampling"
   ]
  },
  {
   "cell_type": "code",
   "execution_count": 84,
   "id": "9446242e",
   "metadata": {},
   "outputs": [
    {
     "name": "stdout",
     "output_type": "stream",
     "text": [
      "Distribusi setiap kelas dari subsampel dataset\n",
      "0    0.5\n",
      "1    0.5\n",
      "Name: berlangganan_deposito, dtype: float64\n"
     ]
    }
   ],
   "source": [
    "print('Distribusi setiap kelas dari subsampel dataset')\n",
    "print(bank_df_normal_distributed['berlangganan_deposito'].value_counts()/len(bank_df_normal_distributed))"
   ]
  },
  {
   "cell_type": "code",
   "execution_count": 85,
   "id": "16a0f648",
   "metadata": {},
   "outputs": [
    {
     "data": {
      "image/png": "[encoded data removed]",
      "text/plain": [
       "<Figure size 1008x504 with 1 Axes>"
      ]
     },
     "metadata": {
      "needs_background": "light"
     },
     "output_type": "display_data"
    }
   ],
   "source": [
    "plt.figure(figsize=(14,7))\n",
    "sns.countplot(x='berlangganan_deposito', data=bank_df_normal_distributed)\n",
    "plt.title('Distribusi kelas yang seimbang', fontsize=12)\n",
    "plt.xlabel('Berlangganan Deposito (Kelas)', fontsize=12)\n",
    "plt.ylabel('Jumlah', fontsize=12)\n",
    "plt.show()"
   ]
  },
  {
   "cell_type": "markdown",
   "id": "4c6c01b2",
   "metadata": {},
   "source": [
    "Data latih kita sudah memiliki proporsi kelas yang seimbang. Kini akan dilakukan training ulang pada model dan melihat evaluasinya dengan scoring accuracy karena subsample sudah disampling dengan seimbang"
   ]
  },
  {
   "cell_type": "markdown",
   "id": "ff705237",
   "metadata": {},
   "source": [
    "### Training model dengan kelas data latih yang sudah seimbang\n",
    "#### Model Training"
   ]
  },
  {
   "cell_type": "code",
   "execution_count": 86,
   "id": "188e7702",
   "metadata": {},
   "outputs": [],
   "source": [
    "cv_results_accuracy, model_names, print_msg_accuracy = perform_model(\n",
    "    models=models,\n",
    "    X_train=X_train_balanced,\n",
    "    y_train=y_train_balanced,\n",
    "    kfold=kfold,\n",
    "    scoring=scoring_accuracy\n",
    ")"
   ]
  },
  {
   "cell_type": "markdown",
   "id": "613c0d62",
   "metadata": {},
   "source": [
    "#### Lihat performa (akurasi) model yang sudah dilatih\n",
    "Performa ini dilihat dari hasil k-fold cross-validation yang sudah dilakukan"
   ]
  },
  {
   "cell_type": "code",
   "execution_count": 87,
   "id": "70c4e22a",
   "metadata": {},
   "outputs": [
    {
     "name": "stdout",
     "output_type": "stream",
     "text": [
      "Logistic Regression: mean accuracy = 0.8234817813765183  std accuracy = 0.01215773887131467\n",
      "K-Nearest Neighbor: mean accuracy = 0.7789473684210527  std accuracy = 0.011542998531899102\n",
      "Support Vector Machine: mean accuracy = 0.8693657219973009  std accuracy = 0.014048057953763139\n",
      "Decision Tree: mean accuracy = 0.7925775978407558  std accuracy = 0.017335522027314\n",
      "Random Forest: mean accuracy = 0.8551956815114709  std accuracy = 0.012916749392606263\n",
      "Naive Bayes: mean accuracy = 0.7  std accuracy = 0.020819936192981007\n"
     ]
    }
   ],
   "source": [
    "# cetak hasil rata-rata akurasi setiap model\n",
    "for msg in print_msg_accuracy:\n",
    "    print(msg)"
   ]
  },
  {
   "cell_type": "code",
   "execution_count": 88,
   "id": "10fbe84d",
   "metadata": {},
   "outputs": [
    {
     "data": {
      "image/png": "[encoded data removed]",
      "text/plain": [
       "<Figure size 576x288 with 1 Axes>"
      ]
     },
     "metadata": {
      "needs_background": "light"
     },
     "output_type": "display_data"
    }
   ],
   "source": [
    "fig = plt.figure(figsize=(10,8))\n",
    "fig.suptitle('Hasil perbandingan akurasi setiap model klasifikasi dengan subsampel seimbang')\n",
    "ax = fig.add_subplot(111)\n",
    "\n",
    "plt.boxplot(cv_results_accuracy)\n",
    "ax.set_xticklabels(model_names, rotation=90)\n",
    "fig.set_size_inches(8,4)\n",
    "plt.show()"
   ]
  },
  {
   "cell_type": "markdown",
   "id": "025b3d95",
   "metadata": {},
   "source": [
    "##### ANALISIS\n",
    "Model SVM tampil memberikan rata-rata akurasi tertinggi ketika model dilatih dengan data latih yang seimbang."
   ]
  },
  {
   "cell_type": "markdown",
   "id": "ae67b614",
   "metadata": {},
   "source": [
    "#### Melihat hasil klasifikasi SVM yang sudah dilatih dengan data uji"
   ]
  },
  {
   "cell_type": "code",
   "execution_count": 89,
   "id": "f53477b2",
   "metadata": {},
   "outputs": [],
   "source": [
    "# inisialisasi model\n",
    "svm_balanced = SVC()\n",
    "\n",
    "# fit model into training data\n",
    "svm_balanced.fit(X_train_balanced,y_train_balanced)\n",
    "\n",
    "# get y prediction\n",
    "y_pred_balanced = svm_balanced.predict(X_test_pca)"
   ]
  },
  {
   "cell_type": "code",
   "execution_count": 90,
   "id": "6b3ea075",
   "metadata": {},
   "outputs": [
    {
     "name": "stdout",
     "output_type": "stream",
     "text": [
      "Accuracy score SVM with balanced subsample =  0.8423160961398398  %\n",
      "[[6083 1220]\n",
      " [  79  856]]\n",
      "              precision    recall  f1-score   support\n",
      "\n",
      "           0       0.99      0.83      0.90      7303\n",
      "           1       0.41      0.92      0.57       935\n",
      "\n",
      "    accuracy                           0.84      8238\n",
      "   macro avg       0.70      0.87      0.74      8238\n",
      "weighted avg       0.92      0.84      0.87      8238\n",
      "\n"
     ]
    }
   ],
   "source": [
    "# print score\n",
    "print(\"Accuracy score SVM with balanced subsample = \", metrics.accuracy_score(y_test,y_pred_balanced),\" %\")\n",
    "\n",
    "# confusion matrix\n",
    "print(metrics.confusion_matrix(y_test,y_pred_balanced))\n",
    "\n",
    "# hasil klasifikasi\n",
    "print(metrics.classification_report(y_test,y_pred_balanced))"
   ]
  },
  {
   "cell_type": "markdown",
   "id": "d8ed67cc",
   "metadata": {},
   "source": [
    "#### ANALISIS\n",
    "Hasil confusion matrix pada model SVM yang dilatih dengan sample yang balanced menunjukkan adanya peningkatan nilai recall kelas '1'.\n",
    "1. Sebelum dilakukan under-sampling nilai recall untuk kelas '1' yaitu 0.44, sedangkan setelah di-undersampling menjadi 0.92 (peningkatannya drastis)\n",
    "2. Terjadi penurunan recall untuk kelas '0' setelah undersampling dari 0.93 menjadi 0.83. Penurunannya tidak sebesar pada kenaikan recall untuk kelas '1'\n",
    "3. Model SVM ini juga memberikan nilai akurasi yang terbilang cukup baik sebesar 84,17%\n",
    "\n",
    "Penting!!\n",
    "Nilai-nilai yang dihasilkan mungkin bervariasi seiring kode program dijalankan dan komputer yang digunakan. Namun, saat dijalankan SVM muncul memberikan hasil seperti di atas\n"
   ]
  },
  {
   "cell_type": "markdown",
   "id": "901d5c81",
   "metadata": {},
   "source": [
    "### Tuning hyperparameter dari model terbaik\n",
    "SVM tampil dengan nilai rata-rata akurasi tertinggi serta memberikan hasil recall yang bagus. Selanjutnya hyperparameter dari SVM akan dilakukan tuning untuk bisa mendapatkan performa yang lebih optimal"
   ]
  },
  {
   "cell_type": "code",
   "execution_count": 92,
   "id": "146d02e3",
   "metadata": {},
   "outputs": [],
   "source": [
    "# inisialisasi SVM model\n",
    "svm_params_tuned = SVC()\n",
    "\n",
    "# inisialisasi objek KFold dengan k=10\n",
    "kfold = kfold\n",
    "\n",
    "# inisialisasi daftar hyperparameter yang akan dituning\n",
    "params_grid={\n",
    "    'kernel' : ['linear', 'poly', 'rbf'],\n",
    "    'gamma':['scale','auto'],\n",
    "}\n",
    "\n",
    "# instansiasi grid seach objek\n",
    "grid_svm = GridSearchCV(\n",
    "    estimator= svm_params_tuned,\n",
    "    param_grid=params_grid,\n",
    "    scoring=scoring_accuracy,\n",
    "    cv = kfold\n",
    ")\n",
    "\n",
    "# fit grid objek ke data train\n",
    "grid_results_ = grid_svm.fit(X_train_balanced,y_train_balanced)"
   ]
  },
  {
   "cell_type": "code",
   "execution_count": 93,
   "id": "5b15de36",
   "metadata": {},
   "outputs": [
    {
     "name": "stdout",
     "output_type": "stream",
     "text": [
      "Best SVM Hyperparameter: {'gamma': 'scale', 'kernel': 'rbf'}\n",
      "Best SVM Accuracy Score: 0.8693657219973009\n"
     ]
    }
   ],
   "source": [
    "# Cetak hyperparameter yang memberikan hasil terbaik\n",
    "print('Best SVM Hyperparameter: {}'.format(grid_results_.best_params_))\n",
    "print('Best SVM Accuracy Score: {}'.format(grid_results_.best_score_))"
   ]
  },
  {
   "cell_type": "markdown",
   "id": "9284a932",
   "metadata": {},
   "source": [
    "### Finalisasi Model\n",
    "#### Training model dengan hyperparameter optimal"
   ]
  },
  {
   "cell_type": "code",
   "execution_count": 94,
   "id": "f31df76c",
   "metadata": {},
   "outputs": [],
   "source": [
    "# instansiasi objek SVM dengan hyperparameter optimal\n",
    "svm_final = SVC(gamma=grid_results_.best_params_['gamma'],kernel=grid_results_.best_params_['kernel'])\n",
    "\n",
    "\n",
    "# training\n",
    "svm_final.fit(X_train_balanced,y_train_balanced)\n",
    "\n",
    "# model evaluation using data testing\n",
    "y_pred_final = svm_final.predict(X_test_pca)"
   ]
  },
  {
   "cell_type": "markdown",
   "id": "b63e4571",
   "metadata": {},
   "source": [
    "#### Cetak hasil model yang sudah dievaluasi"
   ]
  },
  {
   "cell_type": "code",
   "execution_count": 95,
   "id": "e2659865",
   "metadata": {},
   "outputs": [
    {
     "name": "stdout",
     "output_type": "stream",
     "text": [
      "Accuracy score Final Model SVM =  0.8423160961398398  %\n",
      "[[6083 1220]\n",
      " [  79  856]]\n",
      "              precision    recall  f1-score   support\n",
      "\n",
      "           0       0.99      0.83      0.90      7303\n",
      "           1       0.41      0.92      0.57       935\n",
      "\n",
      "    accuracy                           0.84      8238\n",
      "   macro avg       0.70      0.87      0.74      8238\n",
      "weighted avg       0.92      0.84      0.87      8238\n",
      "\n"
     ]
    }
   ],
   "source": [
    "# print score\n",
    "print(\"Accuracy score Final Model SVM = \", metrics.accuracy_score(y_test,y_pred_final),\" %\")\n",
    "\n",
    "# confusion matrix\n",
    "print(metrics.confusion_matrix(y_test,y_pred_final))\n",
    "\n",
    "# hasil klasifikasi\n",
    "print(metrics.classification_report(y_test,y_pred_final))"
   ]
  },
  {
   "cell_type": "markdown",
   "id": "5e44f38f",
   "metadata": {},
   "source": [
    "Model SVM Final memberikan recall untuk kedua kelas yang sangat baik. Pengaturan hyperparameter untuk SVM final adalah kernel rbf dan gamma scale. Selanjutnya model ini siap untuk masuk ke tahap deployment"
   ]
  },
  {
   "cell_type": "code",
   "execution_count": null,
   "id": "68c20bb1",
   "metadata": {},
   "outputs": [],
   "source": []
  }
 ],
 "metadata": {
  "kernelspec": {
   "display_name": "Python 3",
   "language": "python",
   "name": "python3"
  },
  "language_info": {
   "codemirror_mode": {
    "name": "ipython",
    "version": 3
   },
   "file_extension": ".py",
   "mimetype": "text/x-python",
   "name": "python",
   "nbconvert_exporter": "python",
   "pygments_lexer": "ipython3",
   "version": "3.8.8"
  }
 },
 "nbformat": 4,
 "nbformat_minor": 5
}
